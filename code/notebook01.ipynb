{
  "cells": [
    {
      "cell_type": "markdown",
      "metadata": {
        "id": "view-in-github",
        "colab_type": "text"
      },
      "source": [
        "<a href=\"https://colab.research.google.com/github/Maxence-29/Video-Excel-OCR/blob/master/code/notebook01.ipynb\" target=\"_parent\"><img src=\"https://colab.research.google.com/assets/colab-badge.svg\" alt=\"Open In Colab\"/></a>"
      ]
    },
    {
      "cell_type": "markdown",
      "id": "ef1f99a0e48a9345",
      "metadata": {
        "id": "ef1f99a0e48a9345"
      },
      "source": [
        "Imports"
      ]
    },
    {
      "cell_type": "code",
      "execution_count": 2,
      "id": "initial_id",
      "metadata": {
        "ExecuteTime": {
          "end_time": "2025-05-27T08:50:06.579138Z",
          "start_time": "2025-05-27T08:50:04.212245Z"
        },
        "collapsed": true,
        "colab": {
          "base_uri": "https://localhost:8080/"
        },
        "id": "initial_id",
        "outputId": "470bdd38-8c39-4227-8d7c-a0aaa05b733d"
      },
      "outputs": [
        {
          "output_type": "stream",
          "name": "stdout",
          "text": [
            "Requirement already satisfied: paddleocr in /usr/local/lib/python3.11/dist-packages (3.0.0)\n",
            "Requirement already satisfied: paddlepaddle in /usr/local/lib/python3.11/dist-packages (3.0.0)\n",
            "Requirement already satisfied: opencv-python in /usr/local/lib/python3.11/dist-packages (4.11.0.86)\n",
            "Requirement already satisfied: pandas in /usr/local/lib/python3.11/dist-packages (1.5.3)\n",
            "Requirement already satisfied: paddlex==3.0.0 in /usr/local/lib/python3.11/dist-packages (from paddlex[ie,multimodal,ocr]==3.0.0->paddleocr) (3.0.0)\n",
            "Requirement already satisfied: PyYAML>=6 in /usr/local/lib/python3.11/dist-packages (from paddleocr) (6.0.2)\n",
            "Requirement already satisfied: typing-extensions>=4.12 in /usr/local/lib/python3.11/dist-packages (from paddleocr) (4.13.2)\n",
            "Requirement already satisfied: chardet in /usr/local/lib/python3.11/dist-packages (from paddlex==3.0.0->paddlex[ie,multimodal,ocr]==3.0.0->paddleocr) (5.2.0)\n",
            "Requirement already satisfied: colorlog in /usr/local/lib/python3.11/dist-packages (from paddlex==3.0.0->paddlex[ie,multimodal,ocr]==3.0.0->paddleocr) (6.9.0)\n",
            "Requirement already satisfied: filelock in /usr/local/lib/python3.11/dist-packages (from paddlex==3.0.0->paddlex[ie,multimodal,ocr]==3.0.0->paddleocr) (3.18.0)\n",
            "Requirement already satisfied: GPUtil>=1.4 in /usr/local/lib/python3.11/dist-packages (from paddlex==3.0.0->paddlex[ie,multimodal,ocr]==3.0.0->paddleocr) (1.4.0)\n",
            "Requirement already satisfied: numpy==1.24.4 in /usr/local/lib/python3.11/dist-packages (from paddlex==3.0.0->paddlex[ie,multimodal,ocr]==3.0.0->paddleocr) (1.24.4)\n",
            "Requirement already satisfied: packaging in /usr/local/lib/python3.11/dist-packages (from paddlex==3.0.0->paddlex[ie,multimodal,ocr]==3.0.0->paddleocr) (24.2)\n",
            "Requirement already satisfied: pillow in /usr/local/lib/python3.11/dist-packages (from paddlex==3.0.0->paddlex[ie,multimodal,ocr]==3.0.0->paddleocr) (11.2.1)\n",
            "Requirement already satisfied: prettytable in /usr/local/lib/python3.11/dist-packages (from paddlex==3.0.0->paddlex[ie,multimodal,ocr]==3.0.0->paddleocr) (3.16.0)\n",
            "Requirement already satisfied: py-cpuinfo in /usr/local/lib/python3.11/dist-packages (from paddlex==3.0.0->paddlex[ie,multimodal,ocr]==3.0.0->paddleocr) (9.0.0)\n",
            "Requirement already satisfied: pydantic>=2 in /usr/local/lib/python3.11/dist-packages (from paddlex==3.0.0->paddlex[ie,multimodal,ocr]==3.0.0->paddleocr) (2.11.5)\n",
            "Requirement already satisfied: requests in /usr/local/lib/python3.11/dist-packages (from paddlex==3.0.0->paddlex[ie,multimodal,ocr]==3.0.0->paddleocr) (2.32.3)\n",
            "Requirement already satisfied: ruamel.yaml in /usr/local/lib/python3.11/dist-packages (from paddlex==3.0.0->paddlex[ie,multimodal,ocr]==3.0.0->paddleocr) (0.18.12)\n",
            "Requirement already satisfied: ujson in /usr/local/lib/python3.11/dist-packages (from paddlex==3.0.0->paddlex[ie,multimodal,ocr]==3.0.0->paddleocr) (5.10.0)\n",
            "Requirement already satisfied: einops in /usr/local/lib/python3.11/dist-packages (from paddlex[ie,multimodal,ocr]==3.0.0->paddleocr) (0.8.1)\n",
            "Requirement already satisfied: ftfy in /usr/local/lib/python3.11/dist-packages (from paddlex[ie,multimodal,ocr]==3.0.0->paddleocr) (6.3.1)\n",
            "Requirement already satisfied: Jinja2 in /usr/local/lib/python3.11/dist-packages (from paddlex[ie,multimodal,ocr]==3.0.0->paddleocr) (3.1.6)\n",
            "Requirement already satisfied: opencv-contrib-python==4.10.0.84 in /usr/local/lib/python3.11/dist-packages (from paddlex[ie,multimodal,ocr]==3.0.0->paddleocr) (4.10.0.84)\n",
            "Requirement already satisfied: pypdfium2>=4 in /usr/local/lib/python3.11/dist-packages (from paddlex[ie,multimodal,ocr]==3.0.0->paddleocr) (4.30.1)\n",
            "Requirement already satisfied: regex in /usr/local/lib/python3.11/dist-packages (from paddlex[ie,multimodal,ocr]==3.0.0->paddleocr) (2024.11.6)\n",
            "Requirement already satisfied: tiktoken in /usr/local/lib/python3.11/dist-packages (from paddlex[ie,multimodal,ocr]==3.0.0->paddleocr) (0.9.0)\n",
            "Requirement already satisfied: imagesize in /usr/local/lib/python3.11/dist-packages (from paddlex[ie,multimodal,ocr]==3.0.0->paddleocr) (1.4.1)\n",
            "Requirement already satisfied: langchain==0.2.17 in /usr/local/lib/python3.11/dist-packages (from paddlex[ie,multimodal,ocr]==3.0.0->paddleocr) (0.2.17)\n",
            "Requirement already satisfied: langchain-community==0.2.17 in /usr/local/lib/python3.11/dist-packages (from paddlex[ie,multimodal,ocr]==3.0.0->paddleocr) (0.2.17)\n",
            "Requirement already satisfied: langchain-core in /usr/local/lib/python3.11/dist-packages (from paddlex[ie,multimodal,ocr]==3.0.0->paddleocr) (0.2.43)\n",
            "Requirement already satisfied: langchain-openai==0.1.25 in /usr/local/lib/python3.11/dist-packages (from paddlex[ie,multimodal,ocr]==3.0.0->paddleocr) (0.1.25)\n",
            "Requirement already satisfied: lxml in /usr/local/lib/python3.11/dist-packages (from paddlex[ie,multimodal,ocr]==3.0.0->paddleocr) (5.4.0)\n",
            "Requirement already satisfied: openai==1.63.2 in /usr/local/lib/python3.11/dist-packages (from paddlex[ie,multimodal,ocr]==3.0.0->paddleocr) (1.63.2)\n",
            "Requirement already satisfied: openpyxl in /usr/local/lib/python3.11/dist-packages (from paddlex[ie,multimodal,ocr]==3.0.0->paddleocr) (3.1.5)\n",
            "Requirement already satisfied: premailer in /usr/local/lib/python3.11/dist-packages (from paddlex[ie,multimodal,ocr]==3.0.0->paddleocr) (3.10.0)\n",
            "Requirement already satisfied: pyclipper in /usr/local/lib/python3.11/dist-packages (from paddlex[ie,multimodal,ocr]==3.0.0->paddleocr) (1.3.0.post6)\n",
            "Requirement already satisfied: scikit-learn in /usr/local/lib/python3.11/dist-packages (from paddlex[ie,multimodal,ocr]==3.0.0->paddleocr) (1.6.1)\n",
            "Requirement already satisfied: shapely in /usr/local/lib/python3.11/dist-packages (from paddlex[ie,multimodal,ocr]==3.0.0->paddleocr) (2.1.1)\n",
            "Requirement already satisfied: tokenizers==0.19.1 in /usr/local/lib/python3.11/dist-packages (from paddlex[ie,multimodal,ocr]==3.0.0->paddleocr) (0.19.1)\n",
            "Requirement already satisfied: SQLAlchemy<3,>=1.4 in /usr/local/lib/python3.11/dist-packages (from langchain==0.2.17->paddlex[ie,multimodal,ocr]==3.0.0->paddleocr) (2.0.41)\n",
            "Requirement already satisfied: aiohttp<4.0.0,>=3.8.3 in /usr/local/lib/python3.11/dist-packages (from langchain==0.2.17->paddlex[ie,multimodal,ocr]==3.0.0->paddleocr) (3.11.15)\n",
            "Requirement already satisfied: langchain-text-splitters<0.3.0,>=0.2.0 in /usr/local/lib/python3.11/dist-packages (from langchain==0.2.17->paddlex[ie,multimodal,ocr]==3.0.0->paddleocr) (0.2.4)\n",
            "Requirement already satisfied: langsmith<0.2.0,>=0.1.17 in /usr/local/lib/python3.11/dist-packages (from langchain==0.2.17->paddlex[ie,multimodal,ocr]==3.0.0->paddleocr) (0.1.147)\n",
            "Requirement already satisfied: tenacity!=8.4.0,<9.0.0,>=8.1.0 in /usr/local/lib/python3.11/dist-packages (from langchain==0.2.17->paddlex[ie,multimodal,ocr]==3.0.0->paddleocr) (8.5.0)\n",
            "Requirement already satisfied: dataclasses-json<0.7,>=0.5.7 in /usr/local/lib/python3.11/dist-packages (from langchain-community==0.2.17->paddlex[ie,multimodal,ocr]==3.0.0->paddleocr) (0.6.7)\n",
            "Requirement already satisfied: anyio<5,>=3.5.0 in /usr/local/lib/python3.11/dist-packages (from openai==1.63.2->paddlex[ie,multimodal,ocr]==3.0.0->paddleocr) (4.9.0)\n",
            "Requirement already satisfied: distro<2,>=1.7.0 in /usr/local/lib/python3.11/dist-packages (from openai==1.63.2->paddlex[ie,multimodal,ocr]==3.0.0->paddleocr) (1.9.0)\n",
            "Requirement already satisfied: httpx<1,>=0.23.0 in /usr/local/lib/python3.11/dist-packages (from openai==1.63.2->paddlex[ie,multimodal,ocr]==3.0.0->paddleocr) (0.28.1)\n",
            "Requirement already satisfied: jiter<1,>=0.4.0 in /usr/local/lib/python3.11/dist-packages (from openai==1.63.2->paddlex[ie,multimodal,ocr]==3.0.0->paddleocr) (0.10.0)\n",
            "Requirement already satisfied: sniffio in /usr/local/lib/python3.11/dist-packages (from openai==1.63.2->paddlex[ie,multimodal,ocr]==3.0.0->paddleocr) (1.3.1)\n",
            "Requirement already satisfied: tqdm>4 in /usr/local/lib/python3.11/dist-packages (from openai==1.63.2->paddlex[ie,multimodal,ocr]==3.0.0->paddleocr) (4.67.1)\n",
            "Requirement already satisfied: huggingface-hub<1.0,>=0.16.4 in /usr/local/lib/python3.11/dist-packages (from tokenizers==0.19.1->paddlex[ie,multimodal,ocr]==3.0.0->paddleocr) (0.32.2)\n",
            "Requirement already satisfied: protobuf>=3.20.2 in /usr/local/lib/python3.11/dist-packages (from paddlepaddle) (5.29.5)\n",
            "Requirement already satisfied: decorator in /usr/local/lib/python3.11/dist-packages (from paddlepaddle) (4.4.2)\n",
            "Requirement already satisfied: astor in /usr/local/lib/python3.11/dist-packages (from paddlepaddle) (0.8.1)\n",
            "Requirement already satisfied: opt_einsum==3.3.0 in /usr/local/lib/python3.11/dist-packages (from paddlepaddle) (3.3.0)\n",
            "Requirement already satisfied: networkx in /usr/local/lib/python3.11/dist-packages (from paddlepaddle) (3.5)\n",
            "Requirement already satisfied: python-dateutil>=2.8.1 in /usr/local/lib/python3.11/dist-packages (from pandas) (2.9.0.post0)\n",
            "Requirement already satisfied: pytz>=2020.1 in /usr/local/lib/python3.11/dist-packages (from pandas) (2025.2)\n",
            "Requirement already satisfied: certifi in /usr/local/lib/python3.11/dist-packages (from httpx<1,>=0.23.0->openai==1.63.2->paddlex[ie,multimodal,ocr]==3.0.0->paddleocr) (2025.4.26)\n",
            "Requirement already satisfied: httpcore==1.* in /usr/local/lib/python3.11/dist-packages (from httpx<1,>=0.23.0->openai==1.63.2->paddlex[ie,multimodal,ocr]==3.0.0->paddleocr) (1.0.9)\n",
            "Requirement already satisfied: idna in /usr/local/lib/python3.11/dist-packages (from httpx<1,>=0.23.0->openai==1.63.2->paddlex[ie,multimodal,ocr]==3.0.0->paddleocr) (3.10)\n",
            "Requirement already satisfied: h11>=0.16 in /usr/local/lib/python3.11/dist-packages (from httpcore==1.*->httpx<1,>=0.23.0->openai==1.63.2->paddlex[ie,multimodal,ocr]==3.0.0->paddleocr) (0.16.0)\n",
            "Requirement already satisfied: six>=1.5 in /usr/local/lib/python3.11/dist-packages (from python-dateutil>=2.8.1->pandas) (1.17.0)\n",
            "Requirement already satisfied: jsonpatch<2.0,>=1.33 in /usr/local/lib/python3.11/dist-packages (from langchain-core->paddlex[ie,multimodal,ocr]==3.0.0->paddleocr) (1.33)\n",
            "Requirement already satisfied: annotated-types>=0.6.0 in /usr/local/lib/python3.11/dist-packages (from pydantic>=2->paddlex==3.0.0->paddlex[ie,multimodal,ocr]==3.0.0->paddleocr) (0.7.0)\n",
            "Requirement already satisfied: pydantic-core==2.33.2 in /usr/local/lib/python3.11/dist-packages (from pydantic>=2->paddlex==3.0.0->paddlex[ie,multimodal,ocr]==3.0.0->paddleocr) (2.33.2)\n",
            "Requirement already satisfied: typing-inspection>=0.4.0 in /usr/local/lib/python3.11/dist-packages (from pydantic>=2->paddlex==3.0.0->paddlex[ie,multimodal,ocr]==3.0.0->paddleocr) (0.4.1)\n",
            "Requirement already satisfied: charset-normalizer<4,>=2 in /usr/local/lib/python3.11/dist-packages (from requests->paddlex==3.0.0->paddlex[ie,multimodal,ocr]==3.0.0->paddleocr) (3.4.2)\n",
            "Requirement already satisfied: urllib3<3,>=1.21.1 in /usr/local/lib/python3.11/dist-packages (from requests->paddlex==3.0.0->paddlex[ie,multimodal,ocr]==3.0.0->paddleocr) (2.4.0)\n",
            "Requirement already satisfied: wcwidth in /usr/local/lib/python3.11/dist-packages (from ftfy->paddlex[ie,multimodal,ocr]==3.0.0->paddleocr) (0.2.13)\n",
            "Requirement already satisfied: MarkupSafe>=2.0 in /usr/local/lib/python3.11/dist-packages (from Jinja2->paddlex[ie,multimodal,ocr]==3.0.0->paddleocr) (3.0.2)\n",
            "Requirement already satisfied: et-xmlfile in /usr/local/lib/python3.11/dist-packages (from openpyxl->paddlex[ie,multimodal,ocr]==3.0.0->paddleocr) (2.0.0)\n",
            "Requirement already satisfied: cssselect in /usr/local/lib/python3.11/dist-packages (from premailer->paddlex[ie,multimodal,ocr]==3.0.0->paddleocr) (1.3.0)\n",
            "Requirement already satisfied: cssutils in /usr/local/lib/python3.11/dist-packages (from premailer->paddlex[ie,multimodal,ocr]==3.0.0->paddleocr) (2.11.1)\n",
            "Requirement already satisfied: cachetools in /usr/local/lib/python3.11/dist-packages (from premailer->paddlex[ie,multimodal,ocr]==3.0.0->paddleocr) (5.5.2)\n",
            "Requirement already satisfied: ruamel.yaml.clib>=0.2.7 in /usr/local/lib/python3.11/dist-packages (from ruamel.yaml->paddlex==3.0.0->paddlex[ie,multimodal,ocr]==3.0.0->paddleocr) (0.2.12)\n",
            "Requirement already satisfied: scipy>=1.6.0 in /usr/local/lib/python3.11/dist-packages (from scikit-learn->paddlex[ie,multimodal,ocr]==3.0.0->paddleocr) (1.15.3)\n",
            "Requirement already satisfied: joblib>=1.2.0 in /usr/local/lib/python3.11/dist-packages (from scikit-learn->paddlex[ie,multimodal,ocr]==3.0.0->paddleocr) (1.5.1)\n",
            "Requirement already satisfied: threadpoolctl>=3.1.0 in /usr/local/lib/python3.11/dist-packages (from scikit-learn->paddlex[ie,multimodal,ocr]==3.0.0->paddleocr) (3.6.0)\n",
            "Requirement already satisfied: aiohappyeyeballs>=2.3.0 in /usr/local/lib/python3.11/dist-packages (from aiohttp<4.0.0,>=3.8.3->langchain==0.2.17->paddlex[ie,multimodal,ocr]==3.0.0->paddleocr) (2.6.1)\n",
            "Requirement already satisfied: aiosignal>=1.1.2 in /usr/local/lib/python3.11/dist-packages (from aiohttp<4.0.0,>=3.8.3->langchain==0.2.17->paddlex[ie,multimodal,ocr]==3.0.0->paddleocr) (1.3.2)\n",
            "Requirement already satisfied: attrs>=17.3.0 in /usr/local/lib/python3.11/dist-packages (from aiohttp<4.0.0,>=3.8.3->langchain==0.2.17->paddlex[ie,multimodal,ocr]==3.0.0->paddleocr) (25.3.0)\n",
            "Requirement already satisfied: frozenlist>=1.1.1 in /usr/local/lib/python3.11/dist-packages (from aiohttp<4.0.0,>=3.8.3->langchain==0.2.17->paddlex[ie,multimodal,ocr]==3.0.0->paddleocr) (1.6.0)\n",
            "Requirement already satisfied: multidict<7.0,>=4.5 in /usr/local/lib/python3.11/dist-packages (from aiohttp<4.0.0,>=3.8.3->langchain==0.2.17->paddlex[ie,multimodal,ocr]==3.0.0->paddleocr) (6.4.4)\n",
            "Requirement already satisfied: propcache>=0.2.0 in /usr/local/lib/python3.11/dist-packages (from aiohttp<4.0.0,>=3.8.3->langchain==0.2.17->paddlex[ie,multimodal,ocr]==3.0.0->paddleocr) (0.3.1)\n",
            "Requirement already satisfied: yarl<2.0,>=1.17.0 in /usr/local/lib/python3.11/dist-packages (from aiohttp<4.0.0,>=3.8.3->langchain==0.2.17->paddlex[ie,multimodal,ocr]==3.0.0->paddleocr) (1.20.0)\n",
            "Requirement already satisfied: marshmallow<4.0.0,>=3.18.0 in /usr/local/lib/python3.11/dist-packages (from dataclasses-json<0.7,>=0.5.7->langchain-community==0.2.17->paddlex[ie,multimodal,ocr]==3.0.0->paddleocr) (3.26.1)\n",
            "Requirement already satisfied: typing-inspect<1,>=0.4.0 in /usr/local/lib/python3.11/dist-packages (from dataclasses-json<0.7,>=0.5.7->langchain-community==0.2.17->paddlex[ie,multimodal,ocr]==3.0.0->paddleocr) (0.9.0)\n",
            "Requirement already satisfied: fsspec>=2023.5.0 in /usr/local/lib/python3.11/dist-packages (from huggingface-hub<1.0,>=0.16.4->tokenizers==0.19.1->paddlex[ie,multimodal,ocr]==3.0.0->paddleocr) (2025.3.2)\n",
            "Requirement already satisfied: hf-xet<2.0.0,>=1.1.2 in /usr/local/lib/python3.11/dist-packages (from huggingface-hub<1.0,>=0.16.4->tokenizers==0.19.1->paddlex[ie,multimodal,ocr]==3.0.0->paddleocr) (1.1.2)\n",
            "Requirement already satisfied: jsonpointer>=1.9 in /usr/local/lib/python3.11/dist-packages (from jsonpatch<2.0,>=1.33->langchain-core->paddlex[ie,multimodal,ocr]==3.0.0->paddleocr) (3.0.0)\n",
            "Requirement already satisfied: orjson<4.0.0,>=3.9.14 in /usr/local/lib/python3.11/dist-packages (from langsmith<0.2.0,>=0.1.17->langchain==0.2.17->paddlex[ie,multimodal,ocr]==3.0.0->paddleocr) (3.10.18)\n",
            "Requirement already satisfied: requests-toolbelt<2.0.0,>=1.0.0 in /usr/local/lib/python3.11/dist-packages (from langsmith<0.2.0,>=0.1.17->langchain==0.2.17->paddlex[ie,multimodal,ocr]==3.0.0->paddleocr) (1.0.0)\n",
            "Requirement already satisfied: greenlet>=1 in /usr/local/lib/python3.11/dist-packages (from SQLAlchemy<3,>=1.4->langchain==0.2.17->paddlex[ie,multimodal,ocr]==3.0.0->paddleocr) (3.2.2)\n",
            "Requirement already satisfied: more-itertools in /usr/local/lib/python3.11/dist-packages (from cssutils->premailer->paddlex[ie,multimodal,ocr]==3.0.0->paddleocr) (10.7.0)\n",
            "Requirement already satisfied: mypy-extensions>=0.3.0 in /usr/local/lib/python3.11/dist-packages (from typing-inspect<1,>=0.4.0->dataclasses-json<0.7,>=0.5.7->langchain-community==0.2.17->paddlex[ie,multimodal,ocr]==3.0.0->paddleocr) (1.1.0)\n"
          ]
        }
      ],
      "source": [
        "!pip install paddleocr paddlepaddle opencv-python pandas\n",
        "import cv2\n",
        "import os\n",
        "from paddleocr import PaddleOCR\n",
        "import pandas as pd"
      ]
    },
    {
      "cell_type": "markdown",
      "id": "4d40e65301a96572",
      "metadata": {
        "id": "4d40e65301a96572"
      },
      "source": [
        "Read video and capture frame"
      ]
    },
    {
      "cell_type": "code",
      "execution_count": 3,
      "id": "910e3672d498f7fc",
      "metadata": {
        "colab": {
          "base_uri": "https://localhost:8080/"
        },
        "id": "910e3672d498f7fc",
        "outputId": "0659c625-d81f-4957-ecbc-4e82fe4d227c"
      },
      "outputs": [
        {
          "output_type": "stream",
          "name": "stdout",
          "text": [
            "Done.\n"
          ]
        }
      ],
      "source": [
        "video_path = \"/content/assets/成绩单.mp4\"\n",
        "output_dir = \"/content/frames\"\n",
        "interval = 5\n",
        "\n",
        "if not os.path.exists(output_dir):\n",
        "    os.makedirs(output_dir)\n",
        "\n",
        "cap = cv2.VideoCapture(video_path)\n",
        "frame_count = 0\n",
        "saved_count = 0\n",
        "\n",
        "while cap.isOpened():\n",
        "    success, frame = cap.read()\n",
        "    if not success:\n",
        "        break\n",
        "\n",
        "    if frame_count % interval == 0:\n",
        "        filename = os.path.join(output_dir, f\"frame_{saved_count:03d}.jpg\")\n",
        "        cv2.imwrite(filename, frame)\n",
        "        print(f\"Saved {filename}\")\n",
        "        saved_count += 1\n",
        "\n",
        "    frame_count += 1\n",
        "\n",
        "cap.release()\n",
        "print(\"Done.\")"
      ]
    },
    {
      "cell_type": "markdown",
      "id": "d53e973161dd339",
      "metadata": {
        "id": "d53e973161dd339"
      },
      "source": [
        "Frame enhancement"
      ]
    },
    {
      "cell_type": "code",
      "execution_count": 4,
      "id": "3c9d447ad9c42af0",
      "metadata": {
        "colab": {
          "base_uri": "https://localhost:8080/"
        },
        "id": "3c9d447ad9c42af0",
        "outputId": "18db71e0-7cfe-45e1-8d40-8f9c74fad5e8"
      },
      "outputs": [
        {
          "output_type": "stream",
          "name": "stdout",
          "text": [
            "Done.\n"
          ]
        }
      ],
      "source": [
        "frame_path = sorted([os.path.join('/content/frames', f) for f in os.listdir('/content/frames') if f.endswith(\".jpg\")])\n",
        "\n",
        "if not os.path.exists('/content/enhanced'):\n",
        "    os.makedirs('/content/enhanced')\n",
        "\n",
        "idx = 0\n",
        "for f_path in frame_path:\n",
        "    img = cv2.imread(f_path)\n",
        "\n",
        "    # 灰度化\n",
        "    gray = cv2.cvtColor(img, cv2.COLOR_BGR2GRAY)\n",
        "\n",
        "    # 提高对比度（CLAHE）\n",
        "    clahe = cv2.createCLAHE(clipLimit=2.0, tileGridSize=(8,8))\n",
        "    enhanced = clahe.apply(gray)\n",
        "\n",
        "    # 锐化\n",
        "    blurred = cv2.GaussianBlur(enhanced, (7, 7), 10.0)\n",
        "    sharpened = cv2.addWeighted(enhanced, 2, blurred, -0.5, 0)\n",
        "\n",
        "    filename = os.path.join('/content/enhanced', f\"enhanced_frame_{idx:03d}.jpg\")\n",
        "    cv2.imwrite(filename, sharpened)\n",
        "    cv2.destroyAllWindows()\n",
        "\n",
        "    print(f\"Processed {filename}\")\n",
        "    idx += 1\n",
        "\n",
        "print(\"Done.\")"
      ]
    },
    {
      "cell_type": "markdown",
      "id": "f68b80e4c99dc57f",
      "metadata": {
        "id": "f68b80e4c99dc57f"
      },
      "source": [
        "> Here we introduce manual image selection and reshape for the following OCR step."
      ]
    },
    {
      "cell_type": "markdown",
      "id": "e2171d42",
      "metadata": {
        "id": "e2171d42"
      },
      "source": [
        "OCR"
      ]
    },
    {
      "cell_type": "markdown",
      "id": "55b107a48cbc5fd0",
      "metadata": {
        "id": "55b107a48cbc5fd0"
      },
      "source": [
        "Model: PaddleOCR"
      ]
    },
    {
      "cell_type": "code",
      "execution_count": 10,
      "id": "76ff31c737026f8f",
      "metadata": {
        "id": "76ff31c737026f8f"
      },
      "outputs": [],
      "source": [
        "def ocr_to_dataframe(img_path, y_thresh=10):\n",
        "    ocr = PaddleOCR(use_angle_cls=True, lang='ch')\n",
        "    # 移除 cls=True 参数\n",
        "    result = ocr.ocr(img_path)\n",
        "\n",
        "    if not result or result[0] is None:\n",
        "        print(f\"[!] No OCR result for {img_path}\")\n",
        "        return None\n",
        "\n",
        "    boxes = result[0]\n",
        "    data = []\n",
        "    for box in boxes:\n",
        "        # Add a check for the expected structure of box[0]\n",
        "        if len(box[0]) != 4:\n",
        "            print(f\"[!] Skipping box with unexpected structure in {img_path}: {box}\")\n",
        "            continue # Skip to the next box\n",
        "\n",
        "        (x0, y0), (x1, y1), (x2, y2), (x3, y3) = box[0]\n",
        "        text = box[1][0]\n",
        "        conf = box[1][1]\n",
        "        x_center = (x0 + x2) / 2\n",
        "        y_center = (y0 + y2) / 2\n",
        "        data.append((text, conf, x_center, y_center))\n",
        "\n",
        "    # Rest of the function remains the same\n",
        "    data = sorted(data, key=lambda x: x[3])\n",
        "\n",
        "    rows = []\n",
        "    current_row = []\n",
        "    for i, item in enumerate(data):\n",
        "        if i == 0:\n",
        "            current_row.append(item)\n",
        "            continue\n",
        "        _, _, _, y = item\n",
        "        _, _, _, prev_y = data[i - 1]\n",
        "\n",
        "        if abs(y - prev_y) > y_thresh:\n",
        "            rows.append(current_row)\n",
        "            current_row = [item]\n",
        "        else:\n",
        "            current_row.append(item)\n",
        "    if current_row:\n",
        "        rows.append(current_row)\n",
        "\n",
        "    final_table = []\n",
        "    for row in rows:\n",
        "        sorted_row = sorted(row, key=lambda x: x[2])\n",
        "        texts = [cell[0] for cell in sorted_row]\n",
        "        final_table.append(texts)\n",
        "\n",
        "    return pd.DataFrame(final_table)"
      ]
    },
    {
      "cell_type": "markdown",
      "id": "0a484e88",
      "metadata": {
        "id": "0a484e88"
      },
      "source": [
        "Implement"
      ]
    },
    {
      "cell_type": "code",
      "execution_count": null,
      "id": "596bba9d119a7b1c",
      "metadata": {
        "ExecuteTime": {
          "end_time": "2025-05-27T08:54:05.916057Z",
          "start_time": "2025-05-27T08:52:58.992864Z"
        },
        "colab": {
          "base_uri": "https://localhost:8080/"
        },
        "id": "596bba9d119a7b1c",
        "outputId": "3c01a44d-0866-4447-cf5d-37022622d10a"
      },
      "outputs": [
        {
          "metadata": {
            "tags": null
          },
          "name": "stderr",
          "output_type": "stream",
          "text": [
            "<ipython-input-10-a961632846da>:2: DeprecationWarning: The parameter `use_angle_cls` has been deprecated and will be removed in the future. Please use `use_textline_orientation` instead.\n",
            "  ocr = PaddleOCR(use_angle_cls=True, lang='ch')\n",
            "\u001b[32mCreating model: ('PP-LCNet_x1_0_doc_ori', None)\u001b[0m\n",
            "\u001b[32mUsing official model (PP-LCNet_x1_0_doc_ori), the model files will be automatically downloaded and saved in /root/.paddlex/official_models.\u001b[0m\n",
            "\u001b[32mCreating model: ('UVDoc', None)\u001b[0m\n",
            "\u001b[32mUsing official model (UVDoc), the model files will be automatically downloaded and saved in /root/.paddlex/official_models.\u001b[0m\n",
            "\u001b[32mCreating model: ('PP-LCNet_x0_25_textline_ori', None)\u001b[0m\n",
            "\u001b[32mUsing official model (PP-LCNet_x0_25_textline_ori), the model files will be automatically downloaded and saved in /root/.paddlex/official_models.\u001b[0m\n",
            "\u001b[32mCreating model: ('PP-OCRv5_mobile_det', None)\u001b[0m\n",
            "\u001b[32mUsing official model (PP-OCRv5_mobile_det), the model files will be automatically downloaded and saved in /root/.paddlex/official_models.\u001b[0m\n",
            "\u001b[32mCreating model: ('PP-OCRv5_mobile_rec', None)\u001b[0m\n",
            "\u001b[32mUsing official model (PP-OCRv5_mobile_rec), the model files will be automatically downloaded and saved in /root/.paddlex/official_models.\u001b[0m\n",
            "<ipython-input-10-a961632846da>:4: DeprecationWarning: Please use `predict` instead.\n",
            "  result = ocr.ocr(img_path)\n",
            "\u001b[33mResized image size (24533x736) exceeds max_side_limit of 4000. Resizing to fit within limit.\u001b[0m\n",
            "<ipython-input-10-a961632846da>:2: DeprecationWarning: The parameter `use_angle_cls` has been deprecated and will be removed in the future. Please use `use_textline_orientation` instead.\n",
            "  ocr = PaddleOCR(use_angle_cls=True, lang='ch')\n",
            "\u001b[32mCreating model: ('PP-LCNet_x1_0_doc_ori', None)\u001b[0m\n",
            "\u001b[32mUsing official model (PP-LCNet_x1_0_doc_ori), the model files will be automatically downloaded and saved in /root/.paddlex/official_models.\u001b[0m\n"
          ]
        },
        {
          "metadata": {
            "tags": null
          },
          "name": "stdout",
          "output_type": "stream",
          "text": [
            "[!] Skipping box with unexpected structure in /content/imgs/01_副本.jpg: input_path\n",
            "[!] Skipping box with unexpected structure in /content/imgs/01_副本.jpg: page_index\n",
            "[!] Skipping box with unexpected structure in /content/imgs/01_副本.jpg: doc_preprocessor_res\n",
            "[!] Skipping box with unexpected structure in /content/imgs/01_副本.jpg: dt_polys\n",
            "[!] Skipping box with unexpected structure in /content/imgs/01_副本.jpg: model_settings\n",
            "[!] Skipping box with unexpected structure in /content/imgs/01_副本.jpg: text_det_params\n",
            "[!] Skipping box with unexpected structure in /content/imgs/01_副本.jpg: text_type\n",
            "[!] Skipping box with unexpected structure in /content/imgs/01_副本.jpg: text_rec_score_thresh\n",
            "[!] Skipping box with unexpected structure in /content/imgs/01_副本.jpg: rec_texts\n",
            "[!] Skipping box with unexpected structure in /content/imgs/01_副本.jpg: rec_scores\n",
            "[!] Skipping box with unexpected structure in /content/imgs/01_副本.jpg: rec_polys\n",
            "[!] Skipping box with unexpected structure in /content/imgs/01_副本.jpg: textline_orientation_angles\n",
            "[!] Skipping box with unexpected structure in /content/imgs/01_副本.jpg: rec_boxes\n",
            "df shape:  (0, 0) \n",
            "\n",
            "[✓] OCR Done: /content/imgs/01_副本.jpg\n"
          ]
        },
        {
          "metadata": {
            "tags": null
          },
          "name": "stderr",
          "output_type": "stream",
          "text": [
            "\u001b[32mCreating model: ('UVDoc', None)\u001b[0m\n",
            "\u001b[32mUsing official model (UVDoc), the model files will be automatically downloaded and saved in /root/.paddlex/official_models.\u001b[0m\n",
            "\u001b[32mCreating model: ('PP-LCNet_x0_25_textline_ori', None)\u001b[0m\n",
            "\u001b[32mUsing official model (PP-LCNet_x0_25_textline_ori), the model files will be automatically downloaded and saved in /root/.paddlex/official_models.\u001b[0m\n",
            "\u001b[32mCreating model: ('PP-OCRv5_mobile_det', None)\u001b[0m\n",
            "\u001b[32mUsing official model (PP-OCRv5_mobile_det), the model files will be automatically downloaded and saved in /root/.paddlex/official_models.\u001b[0m\n",
            "\u001b[32mCreating model: ('PP-OCRv5_mobile_rec', None)\u001b[0m\n",
            "\u001b[32mUsing official model (PP-OCRv5_mobile_rec), the model files will be automatically downloaded and saved in /root/.paddlex/official_models.\u001b[0m\n",
            "<ipython-input-10-a961632846da>:4: DeprecationWarning: Please use `predict` instead.\n",
            "  result = ocr.ocr(img_path)\n",
            "\u001b[33mResized image size (736x20732) exceeds max_side_limit of 4000. Resizing to fit within limit.\u001b[0m\n",
            "<ipython-input-10-a961632846da>:2: DeprecationWarning: The parameter `use_angle_cls` has been deprecated and will be removed in the future. Please use `use_textline_orientation` instead.\n",
            "  ocr = PaddleOCR(use_angle_cls=True, lang='ch')\n",
            "\u001b[32mCreating model: ('PP-LCNet_x1_0_doc_ori', None)\u001b[0m\n",
            "\u001b[32mUsing official model (PP-LCNet_x1_0_doc_ori), the model files will be automatically downloaded and saved in /root/.paddlex/official_models.\u001b[0m\n"
          ]
        },
        {
          "metadata": {
            "tags": null
          },
          "name": "stdout",
          "output_type": "stream",
          "text": [
            "[!] Skipping box with unexpected structure in /content/imgs/01_副本1.jpg: input_path\n",
            "[!] Skipping box with unexpected structure in /content/imgs/01_副本1.jpg: page_index\n",
            "[!] Skipping box with unexpected structure in /content/imgs/01_副本1.jpg: doc_preprocessor_res\n",
            "[!] Skipping box with unexpected structure in /content/imgs/01_副本1.jpg: dt_polys\n",
            "[!] Skipping box with unexpected structure in /content/imgs/01_副本1.jpg: model_settings\n",
            "[!] Skipping box with unexpected structure in /content/imgs/01_副本1.jpg: text_det_params\n",
            "[!] Skipping box with unexpected structure in /content/imgs/01_副本1.jpg: text_type\n",
            "[!] Skipping box with unexpected structure in /content/imgs/01_副本1.jpg: text_rec_score_thresh\n",
            "[!] Skipping box with unexpected structure in /content/imgs/01_副本1.jpg: rec_texts\n",
            "[!] Skipping box with unexpected structure in /content/imgs/01_副本1.jpg: rec_scores\n",
            "[!] Skipping box with unexpected structure in /content/imgs/01_副本1.jpg: rec_polys\n",
            "[!] Skipping box with unexpected structure in /content/imgs/01_副本1.jpg: textline_orientation_angles\n",
            "[!] Skipping box with unexpected structure in /content/imgs/01_副本1.jpg: rec_boxes\n",
            "df shape:  (0, 0) \n",
            "\n",
            "[✓] OCR Done: /content/imgs/01_副本1.jpg\n"
          ]
        },
        {
          "metadata": {
            "tags": null
          },
          "name": "stderr",
          "output_type": "stream",
          "text": [
            "\u001b[32mCreating model: ('UVDoc', None)\u001b[0m\n",
            "\u001b[32mUsing official model (UVDoc), the model files will be automatically downloaded and saved in /root/.paddlex/official_models.\u001b[0m\n",
            "\u001b[32mCreating model: ('PP-LCNet_x0_25_textline_ori', None)\u001b[0m\n",
            "\u001b[32mUsing official model (PP-LCNet_x0_25_textline_ori), the model files will be automatically downloaded and saved in /root/.paddlex/official_models.\u001b[0m\n",
            "\u001b[32mCreating model: ('PP-OCRv5_mobile_det', None)\u001b[0m\n",
            "\u001b[32mUsing official model (PP-OCRv5_mobile_det), the model files will be automatically downloaded and saved in /root/.paddlex/official_models.\u001b[0m\n",
            "\u001b[32mCreating model: ('PP-OCRv5_mobile_rec', None)\u001b[0m\n",
            "\u001b[32mUsing official model (PP-OCRv5_mobile_rec), the model files will be automatically downloaded and saved in /root/.paddlex/official_models.\u001b[0m\n",
            "<ipython-input-10-a961632846da>:4: DeprecationWarning: Please use `predict` instead.\n",
            "  result = ocr.ocr(img_path)\n",
            "\u001b[33mResized image size (12369x736) exceeds max_side_limit of 4000. Resizing to fit within limit.\u001b[0m\n",
            "<ipython-input-10-a961632846da>:2: DeprecationWarning: The parameter `use_angle_cls` has been deprecated and will be removed in the future. Please use `use_textline_orientation` instead.\n",
            "  ocr = PaddleOCR(use_angle_cls=True, lang='ch')\n",
            "\u001b[32mCreating model: ('PP-LCNet_x1_0_doc_ori', None)\u001b[0m\n",
            "\u001b[32mUsing official model (PP-LCNet_x1_0_doc_ori), the model files will be automatically downloaded and saved in /root/.paddlex/official_models.\u001b[0m\n"
          ]
        },
        {
          "metadata": {
            "tags": null
          },
          "name": "stdout",
          "output_type": "stream",
          "text": [
            "[!] Skipping box with unexpected structure in /content/imgs/01_副本10.jpg: input_path\n",
            "[!] Skipping box with unexpected structure in /content/imgs/01_副本10.jpg: page_index\n",
            "[!] Skipping box with unexpected structure in /content/imgs/01_副本10.jpg: doc_preprocessor_res\n",
            "[!] Skipping box with unexpected structure in /content/imgs/01_副本10.jpg: dt_polys\n",
            "[!] Skipping box with unexpected structure in /content/imgs/01_副本10.jpg: model_settings\n",
            "[!] Skipping box with unexpected structure in /content/imgs/01_副本10.jpg: text_det_params\n",
            "[!] Skipping box with unexpected structure in /content/imgs/01_副本10.jpg: text_type\n",
            "[!] Skipping box with unexpected structure in /content/imgs/01_副本10.jpg: text_rec_score_thresh\n",
            "[!] Skipping box with unexpected structure in /content/imgs/01_副本10.jpg: rec_texts\n",
            "[!] Skipping box with unexpected structure in /content/imgs/01_副本10.jpg: rec_scores\n",
            "[!] Skipping box with unexpected structure in /content/imgs/01_副本10.jpg: rec_polys\n",
            "[!] Skipping box with unexpected structure in /content/imgs/01_副本10.jpg: textline_orientation_angles\n",
            "[!] Skipping box with unexpected structure in /content/imgs/01_副本10.jpg: rec_boxes\n",
            "df shape:  (0, 0) \n",
            "\n",
            "[✓] OCR Done: /content/imgs/01_副本10.jpg\n"
          ]
        },
        {
          "metadata": {
            "tags": null
          },
          "name": "stderr",
          "output_type": "stream",
          "text": [
            "\u001b[32mCreating model: ('UVDoc', None)\u001b[0m\n",
            "\u001b[32mUsing official model (UVDoc), the model files will be automatically downloaded and saved in /root/.paddlex/official_models.\u001b[0m\n",
            "\u001b[32mCreating model: ('PP-LCNet_x0_25_textline_ori', None)\u001b[0m\n",
            "\u001b[32mUsing official model (PP-LCNet_x0_25_textline_ori), the model files will be automatically downloaded and saved in /root/.paddlex/official_models.\u001b[0m\n",
            "\u001b[32mCreating model: ('PP-OCRv5_mobile_det', None)\u001b[0m\n",
            "\u001b[32mUsing official model (PP-OCRv5_mobile_det), the model files will be automatically downloaded and saved in /root/.paddlex/official_models.\u001b[0m\n",
            "\u001b[32mCreating model: ('PP-OCRv5_mobile_rec', None)\u001b[0m\n",
            "\u001b[32mUsing official model (PP-OCRv5_mobile_rec), the model files will be automatically downloaded and saved in /root/.paddlex/official_models.\u001b[0m\n",
            "<ipython-input-10-a961632846da>:4: DeprecationWarning: Please use `predict` instead.\n",
            "  result = ocr.ocr(img_path)\n",
            "\u001b[33mResized image size (8921x736) exceeds max_side_limit of 4000. Resizing to fit within limit.\u001b[0m\n",
            "<ipython-input-10-a961632846da>:2: DeprecationWarning: The parameter `use_angle_cls` has been deprecated and will be removed in the future. Please use `use_textline_orientation` instead.\n",
            "  ocr = PaddleOCR(use_angle_cls=True, lang='ch')\n",
            "\u001b[32mCreating model: ('PP-LCNet_x1_0_doc_ori', None)\u001b[0m\n",
            "\u001b[32mUsing official model (PP-LCNet_x1_0_doc_ori), the model files will be automatically downloaded and saved in /root/.paddlex/official_models.\u001b[0m\n"
          ]
        },
        {
          "metadata": {
            "tags": null
          },
          "name": "stdout",
          "output_type": "stream",
          "text": [
            "[!] Skipping box with unexpected structure in /content/imgs/01_副本11.jpg: input_path\n",
            "[!] Skipping box with unexpected structure in /content/imgs/01_副本11.jpg: page_index\n",
            "[!] Skipping box with unexpected structure in /content/imgs/01_副本11.jpg: doc_preprocessor_res\n",
            "[!] Skipping box with unexpected structure in /content/imgs/01_副本11.jpg: dt_polys\n",
            "[!] Skipping box with unexpected structure in /content/imgs/01_副本11.jpg: model_settings\n",
            "[!] Skipping box with unexpected structure in /content/imgs/01_副本11.jpg: text_det_params\n",
            "[!] Skipping box with unexpected structure in /content/imgs/01_副本11.jpg: text_type\n",
            "[!] Skipping box with unexpected structure in /content/imgs/01_副本11.jpg: text_rec_score_thresh\n",
            "[!] Skipping box with unexpected structure in /content/imgs/01_副本11.jpg: rec_texts\n",
            "[!] Skipping box with unexpected structure in /content/imgs/01_副本11.jpg: rec_scores\n",
            "[!] Skipping box with unexpected structure in /content/imgs/01_副本11.jpg: rec_polys\n",
            "[!] Skipping box with unexpected structure in /content/imgs/01_副本11.jpg: textline_orientation_angles\n",
            "[!] Skipping box with unexpected structure in /content/imgs/01_副本11.jpg: rec_boxes\n",
            "df shape:  (0, 0) \n",
            "\n",
            "[✓] OCR Done: /content/imgs/01_副本11.jpg\n"
          ]
        },
        {
          "metadata": {
            "tags": null
          },
          "name": "stderr",
          "output_type": "stream",
          "text": [
            "\u001b[32mCreating model: ('UVDoc', None)\u001b[0m\n",
            "\u001b[32mUsing official model (UVDoc), the model files will be automatically downloaded and saved in /root/.paddlex/official_models.\u001b[0m\n",
            "\u001b[32mCreating model: ('PP-LCNet_x0_25_textline_ori', None)\u001b[0m\n",
            "\u001b[32mUsing official model (PP-LCNet_x0_25_textline_ori), the model files will be automatically downloaded and saved in /root/.paddlex/official_models.\u001b[0m\n",
            "\u001b[32mCreating model: ('PP-OCRv5_mobile_det', None)\u001b[0m\n",
            "\u001b[32mUsing official model (PP-OCRv5_mobile_det), the model files will be automatically downloaded and saved in /root/.paddlex/official_models.\u001b[0m\n",
            "\u001b[32mCreating model: ('PP-OCRv5_mobile_rec', None)\u001b[0m\n",
            "\u001b[32mUsing official model (PP-OCRv5_mobile_rec), the model files will be automatically downloaded and saved in /root/.paddlex/official_models.\u001b[0m\n",
            "<ipython-input-10-a961632846da>:4: DeprecationWarning: Please use `predict` instead.\n",
            "  result = ocr.ocr(img_path)\n",
            "\u001b[33mResized image size (16727x736) exceeds max_side_limit of 4000. Resizing to fit within limit.\u001b[0m\n",
            "<ipython-input-10-a961632846da>:2: DeprecationWarning: The parameter `use_angle_cls` has been deprecated and will be removed in the future. Please use `use_textline_orientation` instead.\n",
            "  ocr = PaddleOCR(use_angle_cls=True, lang='ch')\n",
            "\u001b[32mCreating model: ('PP-LCNet_x1_0_doc_ori', None)\u001b[0m\n",
            "\u001b[32mUsing official model (PP-LCNet_x1_0_doc_ori), the model files will be automatically downloaded and saved in /root/.paddlex/official_models.\u001b[0m\n"
          ]
        },
        {
          "metadata": {
            "tags": null
          },
          "name": "stdout",
          "output_type": "stream",
          "text": [
            "[!] Skipping box with unexpected structure in /content/imgs/01_副本2.jpg: input_path\n",
            "[!] Skipping box with unexpected structure in /content/imgs/01_副本2.jpg: page_index\n",
            "[!] Skipping box with unexpected structure in /content/imgs/01_副本2.jpg: doc_preprocessor_res\n",
            "[!] Skipping box with unexpected structure in /content/imgs/01_副本2.jpg: dt_polys\n",
            "[!] Skipping box with unexpected structure in /content/imgs/01_副本2.jpg: model_settings\n",
            "[!] Skipping box with unexpected structure in /content/imgs/01_副本2.jpg: text_det_params\n",
            "[!] Skipping box with unexpected structure in /content/imgs/01_副本2.jpg: text_type\n",
            "[!] Skipping box with unexpected structure in /content/imgs/01_副本2.jpg: text_rec_score_thresh\n",
            "[!] Skipping box with unexpected structure in /content/imgs/01_副本2.jpg: rec_texts\n",
            "[!] Skipping box with unexpected structure in /content/imgs/01_副本2.jpg: rec_scores\n",
            "[!] Skipping box with unexpected structure in /content/imgs/01_副本2.jpg: rec_polys\n",
            "[!] Skipping box with unexpected structure in /content/imgs/01_副本2.jpg: textline_orientation_angles\n",
            "[!] Skipping box with unexpected structure in /content/imgs/01_副本2.jpg: rec_boxes\n",
            "df shape:  (0, 0) \n",
            "\n",
            "[✓] OCR Done: /content/imgs/01_副本2.jpg\n"
          ]
        },
        {
          "metadata": {
            "tags": null
          },
          "name": "stderr",
          "output_type": "stream",
          "text": [
            "\u001b[32mCreating model: ('UVDoc', None)\u001b[0m\n",
            "\u001b[32mUsing official model (UVDoc), the model files will be automatically downloaded and saved in /root/.paddlex/official_models.\u001b[0m\n",
            "\u001b[32mCreating model: ('PP-LCNet_x0_25_textline_ori', None)\u001b[0m\n",
            "\u001b[32mUsing official model (PP-LCNet_x0_25_textline_ori), the model files will be automatically downloaded and saved in /root/.paddlex/official_models.\u001b[0m\n",
            "\u001b[32mCreating model: ('PP-OCRv5_mobile_det', None)\u001b[0m\n",
            "\u001b[32mUsing official model (PP-OCRv5_mobile_det), the model files will be automatically downloaded and saved in /root/.paddlex/official_models.\u001b[0m\n",
            "\u001b[32mCreating model: ('PP-OCRv5_mobile_rec', None)\u001b[0m\n",
            "\u001b[32mUsing official model (PP-OCRv5_mobile_rec), the model files will be automatically downloaded and saved in /root/.paddlex/official_models.\u001b[0m\n",
            "<ipython-input-10-a961632846da>:4: DeprecationWarning: Please use `predict` instead.\n",
            "  result = ocr.ocr(img_path)\n",
            "\u001b[33mResized image size (16175x736) exceeds max_side_limit of 4000. Resizing to fit within limit.\u001b[0m\n",
            "<ipython-input-10-a961632846da>:2: DeprecationWarning: The parameter `use_angle_cls` has been deprecated and will be removed in the future. Please use `use_textline_orientation` instead.\n",
            "  ocr = PaddleOCR(use_angle_cls=True, lang='ch')\n",
            "\u001b[32mCreating model: ('PP-LCNet_x1_0_doc_ori', None)\u001b[0m\n",
            "\u001b[32mUsing official model (PP-LCNet_x1_0_doc_ori), the model files will be automatically downloaded and saved in /root/.paddlex/official_models.\u001b[0m\n"
          ]
        },
        {
          "metadata": {
            "tags": null
          },
          "name": "stdout",
          "output_type": "stream",
          "text": [
            "[!] Skipping box with unexpected structure in /content/imgs/01_副本3.jpg: input_path\n",
            "[!] Skipping box with unexpected structure in /content/imgs/01_副本3.jpg: page_index\n",
            "[!] Skipping box with unexpected structure in /content/imgs/01_副本3.jpg: doc_preprocessor_res\n",
            "[!] Skipping box with unexpected structure in /content/imgs/01_副本3.jpg: dt_polys\n",
            "[!] Skipping box with unexpected structure in /content/imgs/01_副本3.jpg: model_settings\n",
            "[!] Skipping box with unexpected structure in /content/imgs/01_副本3.jpg: text_det_params\n",
            "[!] Skipping box with unexpected structure in /content/imgs/01_副本3.jpg: text_type\n",
            "[!] Skipping box with unexpected structure in /content/imgs/01_副本3.jpg: text_rec_score_thresh\n",
            "[!] Skipping box with unexpected structure in /content/imgs/01_副本3.jpg: rec_texts\n",
            "[!] Skipping box with unexpected structure in /content/imgs/01_副本3.jpg: rec_scores\n",
            "[!] Skipping box with unexpected structure in /content/imgs/01_副本3.jpg: rec_polys\n",
            "[!] Skipping box with unexpected structure in /content/imgs/01_副本3.jpg: textline_orientation_angles\n",
            "[!] Skipping box with unexpected structure in /content/imgs/01_副本3.jpg: rec_boxes\n",
            "df shape:  (0, 0) \n",
            "\n",
            "[✓] OCR Done: /content/imgs/01_副本3.jpg\n"
          ]
        },
        {
          "metadata": {
            "tags": null
          },
          "name": "stderr",
          "output_type": "stream",
          "text": [
            "\u001b[32mCreating model: ('UVDoc', None)\u001b[0m\n",
            "\u001b[32mUsing official model (UVDoc), the model files will be automatically downloaded and saved in /root/.paddlex/official_models.\u001b[0m\n",
            "\u001b[32mCreating model: ('PP-LCNet_x0_25_textline_ori', None)\u001b[0m\n",
            "\u001b[32mUsing official model (PP-LCNet_x0_25_textline_ori), the model files will be automatically downloaded and saved in /root/.paddlex/official_models.\u001b[0m\n",
            "\u001b[32mCreating model: ('PP-OCRv5_mobile_det', None)\u001b[0m\n",
            "\u001b[32mUsing official model (PP-OCRv5_mobile_det), the model files will be automatically downloaded and saved in /root/.paddlex/official_models.\u001b[0m\n",
            "\u001b[32mCreating model: ('PP-OCRv5_mobile_rec', None)\u001b[0m\n",
            "\u001b[32mUsing official model (PP-OCRv5_mobile_rec), the model files will be automatically downloaded and saved in /root/.paddlex/official_models.\u001b[0m\n",
            "<ipython-input-10-a961632846da>:4: DeprecationWarning: Please use `predict` instead.\n",
            "  result = ocr.ocr(img_path)\n",
            "\u001b[33mResized image size (16727x736) exceeds max_side_limit of 4000. Resizing to fit within limit.\u001b[0m\n",
            "<ipython-input-10-a961632846da>:2: DeprecationWarning: The parameter `use_angle_cls` has been deprecated and will be removed in the future. Please use `use_textline_orientation` instead.\n",
            "  ocr = PaddleOCR(use_angle_cls=True, lang='ch')\n",
            "\u001b[32mCreating model: ('PP-LCNet_x1_0_doc_ori', None)\u001b[0m\n",
            "\u001b[32mUsing official model (PP-LCNet_x1_0_doc_ori), the model files will be automatically downloaded and saved in /root/.paddlex/official_models.\u001b[0m\n"
          ]
        },
        {
          "metadata": {
            "tags": null
          },
          "name": "stdout",
          "output_type": "stream",
          "text": [
            "[!] Skipping box with unexpected structure in /content/imgs/01_副本4.jpg: input_path\n",
            "[!] Skipping box with unexpected structure in /content/imgs/01_副本4.jpg: page_index\n",
            "[!] Skipping box with unexpected structure in /content/imgs/01_副本4.jpg: doc_preprocessor_res\n",
            "[!] Skipping box with unexpected structure in /content/imgs/01_副本4.jpg: dt_polys\n",
            "[!] Skipping box with unexpected structure in /content/imgs/01_副本4.jpg: model_settings\n",
            "[!] Skipping box with unexpected structure in /content/imgs/01_副本4.jpg: text_det_params\n",
            "[!] Skipping box with unexpected structure in /content/imgs/01_副本4.jpg: text_type\n",
            "[!] Skipping box with unexpected structure in /content/imgs/01_副本4.jpg: text_rec_score_thresh\n",
            "[!] Skipping box with unexpected structure in /content/imgs/01_副本4.jpg: rec_texts\n",
            "[!] Skipping box with unexpected structure in /content/imgs/01_副本4.jpg: rec_scores\n",
            "[!] Skipping box with unexpected structure in /content/imgs/01_副本4.jpg: rec_polys\n",
            "[!] Skipping box with unexpected structure in /content/imgs/01_副本4.jpg: textline_orientation_angles\n",
            "[!] Skipping box with unexpected structure in /content/imgs/01_副本4.jpg: rec_boxes\n",
            "df shape:  (0, 0) \n",
            "\n",
            "[✓] OCR Done: /content/imgs/01_副本4.jpg\n"
          ]
        },
        {
          "metadata": {
            "tags": null
          },
          "name": "stderr",
          "output_type": "stream",
          "text": [
            "\u001b[32mCreating model: ('UVDoc', None)\u001b[0m\n",
            "\u001b[32mUsing official model (UVDoc), the model files will be automatically downloaded and saved in /root/.paddlex/official_models.\u001b[0m\n",
            "\u001b[32mCreating model: ('PP-LCNet_x0_25_textline_ori', None)\u001b[0m\n",
            "\u001b[32mUsing official model (PP-LCNet_x0_25_textline_ori), the model files will be automatically downloaded and saved in /root/.paddlex/official_models.\u001b[0m\n",
            "\u001b[32mCreating model: ('PP-OCRv5_mobile_det', None)\u001b[0m\n",
            "\u001b[32mUsing official model (PP-OCRv5_mobile_det), the model files will be automatically downloaded and saved in /root/.paddlex/official_models.\u001b[0m\n",
            "\u001b[32mCreating model: ('PP-OCRv5_mobile_rec', None)\u001b[0m\n",
            "\u001b[32mUsing official model (PP-OCRv5_mobile_rec), the model files will be automatically downloaded and saved in /root/.paddlex/official_models.\u001b[0m\n",
            "<ipython-input-10-a961632846da>:4: DeprecationWarning: Please use `predict` instead.\n",
            "  result = ocr.ocr(img_path)\n",
            "\u001b[33mResized image size (16000x736) exceeds max_side_limit of 4000. Resizing to fit within limit.\u001b[0m\n",
            "<ipython-input-10-a961632846da>:2: DeprecationWarning: The parameter `use_angle_cls` has been deprecated and will be removed in the future. Please use `use_textline_orientation` instead.\n",
            "  ocr = PaddleOCR(use_angle_cls=True, lang='ch')\n",
            "\u001b[32mCreating model: ('PP-LCNet_x1_0_doc_ori', None)\u001b[0m\n",
            "\u001b[32mUsing official model (PP-LCNet_x1_0_doc_ori), the model files will be automatically downloaded and saved in /root/.paddlex/official_models.\u001b[0m\n"
          ]
        },
        {
          "metadata": {
            "tags": null
          },
          "name": "stdout",
          "output_type": "stream",
          "text": [
            "[!] Skipping box with unexpected structure in /content/imgs/01_副本5.jpg: input_path\n",
            "[!] Skipping box with unexpected structure in /content/imgs/01_副本5.jpg: page_index\n",
            "[!] Skipping box with unexpected structure in /content/imgs/01_副本5.jpg: doc_preprocessor_res\n",
            "[!] Skipping box with unexpected structure in /content/imgs/01_副本5.jpg: dt_polys\n",
            "[!] Skipping box with unexpected structure in /content/imgs/01_副本5.jpg: model_settings\n",
            "[!] Skipping box with unexpected structure in /content/imgs/01_副本5.jpg: text_det_params\n",
            "[!] Skipping box with unexpected structure in /content/imgs/01_副本5.jpg: text_type\n",
            "[!] Skipping box with unexpected structure in /content/imgs/01_副本5.jpg: text_rec_score_thresh\n",
            "[!] Skipping box with unexpected structure in /content/imgs/01_副本5.jpg: rec_texts\n",
            "[!] Skipping box with unexpected structure in /content/imgs/01_副本5.jpg: rec_scores\n",
            "[!] Skipping box with unexpected structure in /content/imgs/01_副本5.jpg: rec_polys\n",
            "[!] Skipping box with unexpected structure in /content/imgs/01_副本5.jpg: textline_orientation_angles\n",
            "[!] Skipping box with unexpected structure in /content/imgs/01_副本5.jpg: rec_boxes\n",
            "df shape:  (0, 0) \n",
            "\n",
            "[✓] OCR Done: /content/imgs/01_副本5.jpg\n"
          ]
        },
        {
          "metadata": {
            "tags": null
          },
          "name": "stderr",
          "output_type": "stream",
          "text": [
            "\u001b[32mCreating model: ('UVDoc', None)\u001b[0m\n",
            "\u001b[32mUsing official model (UVDoc), the model files will be automatically downloaded and saved in /root/.paddlex/official_models.\u001b[0m\n",
            "\u001b[32mCreating model: ('PP-LCNet_x0_25_textline_ori', None)\u001b[0m\n",
            "\u001b[32mUsing official model (PP-LCNet_x0_25_textline_ori), the model files will be automatically downloaded and saved in /root/.paddlex/official_models.\u001b[0m\n",
            "\u001b[32mCreating model: ('PP-OCRv5_mobile_det', None)\u001b[0m\n",
            "\u001b[32mUsing official model (PP-OCRv5_mobile_det), the model files will be automatically downloaded and saved in /root/.paddlex/official_models.\u001b[0m\n",
            "\u001b[32mCreating model: ('PP-OCRv5_mobile_rec', None)\u001b[0m\n",
            "\u001b[32mUsing official model (PP-OCRv5_mobile_rec), the model files will be automatically downloaded and saved in /root/.paddlex/official_models.\u001b[0m\n",
            "<ipython-input-10-a961632846da>:4: DeprecationWarning: Please use `predict` instead.\n",
            "  result = ocr.ocr(img_path)\n",
            "\u001b[33mResized image size (736x16175) exceeds max_side_limit of 4000. Resizing to fit within limit.\u001b[0m\n",
            "<ipython-input-10-a961632846da>:2: DeprecationWarning: The parameter `use_angle_cls` has been deprecated and will be removed in the future. Please use `use_textline_orientation` instead.\n",
            "  ocr = PaddleOCR(use_angle_cls=True, lang='ch')\n",
            "\u001b[32mCreating model: ('PP-LCNet_x1_0_doc_ori', None)\u001b[0m\n",
            "\u001b[32mUsing official model (PP-LCNet_x1_0_doc_ori), the model files will be automatically downloaded and saved in /root/.paddlex/official_models.\u001b[0m\n"
          ]
        },
        {
          "metadata": {
            "tags": null
          },
          "name": "stdout",
          "output_type": "stream",
          "text": [
            "[!] Skipping box with unexpected structure in /content/imgs/01_副本6.jpg: input_path\n",
            "[!] Skipping box with unexpected structure in /content/imgs/01_副本6.jpg: page_index\n",
            "[!] Skipping box with unexpected structure in /content/imgs/01_副本6.jpg: doc_preprocessor_res\n",
            "[!] Skipping box with unexpected structure in /content/imgs/01_副本6.jpg: dt_polys\n",
            "[!] Skipping box with unexpected structure in /content/imgs/01_副本6.jpg: model_settings\n",
            "[!] Skipping box with unexpected structure in /content/imgs/01_副本6.jpg: text_det_params\n",
            "[!] Skipping box with unexpected structure in /content/imgs/01_副本6.jpg: text_type\n",
            "[!] Skipping box with unexpected structure in /content/imgs/01_副本6.jpg: text_rec_score_thresh\n",
            "[!] Skipping box with unexpected structure in /content/imgs/01_副本6.jpg: rec_texts\n",
            "[!] Skipping box with unexpected structure in /content/imgs/01_副本6.jpg: rec_scores\n",
            "[!] Skipping box with unexpected structure in /content/imgs/01_副本6.jpg: rec_polys\n",
            "[!] Skipping box with unexpected structure in /content/imgs/01_副本6.jpg: rec_boxes\n",
            "df shape:  (0, 0) \n",
            "\n",
            "[✓] OCR Done: /content/imgs/01_副本6.jpg\n"
          ]
        },
        {
          "metadata": {
            "tags": null
          },
          "name": "stderr",
          "output_type": "stream",
          "text": [
            "\u001b[32mCreating model: ('UVDoc', None)\u001b[0m\n",
            "\u001b[32mUsing official model (UVDoc), the model files will be automatically downloaded and saved in /root/.paddlex/official_models.\u001b[0m\n",
            "\u001b[32mCreating model: ('PP-LCNet_x0_25_textline_ori', None)\u001b[0m\n",
            "\u001b[32mUsing official model (PP-LCNet_x0_25_textline_ori), the model files will be automatically downloaded and saved in /root/.paddlex/official_models.\u001b[0m\n",
            "\u001b[32mCreating model: ('PP-OCRv5_mobile_det', None)\u001b[0m\n",
            "\u001b[32mUsing official model (PP-OCRv5_mobile_det), the model files will be automatically downloaded and saved in /root/.paddlex/official_models.\u001b[0m\n",
            "\u001b[32mCreating model: ('PP-OCRv5_mobile_rec', None)\u001b[0m\n",
            "\u001b[32mUsing official model (PP-OCRv5_mobile_rec), the model files will be automatically downloaded and saved in /root/.paddlex/official_models.\u001b[0m\n",
            "<ipython-input-10-a961632846da>:4: DeprecationWarning: Please use `predict` instead.\n",
            "  result = ocr.ocr(img_path)\n",
            "\u001b[33mResized image size (12065x736) exceeds max_side_limit of 4000. Resizing to fit within limit.\u001b[0m\n",
            "<ipython-input-10-a961632846da>:2: DeprecationWarning: The parameter `use_angle_cls` has been deprecated and will be removed in the future. Please use `use_textline_orientation` instead.\n",
            "  ocr = PaddleOCR(use_angle_cls=True, lang='ch')\n",
            "\u001b[32mCreating model: ('PP-LCNet_x1_0_doc_ori', None)\u001b[0m\n",
            "\u001b[32mUsing official model (PP-LCNet_x1_0_doc_ori), the model files will be automatically downloaded and saved in /root/.paddlex/official_models.\u001b[0m\n"
          ]
        },
        {
          "metadata": {
            "tags": null
          },
          "name": "stdout",
          "output_type": "stream",
          "text": [
            "[!] Skipping box with unexpected structure in /content/imgs/01_副本7.jpg: input_path\n",
            "[!] Skipping box with unexpected structure in /content/imgs/01_副本7.jpg: page_index\n",
            "[!] Skipping box with unexpected structure in /content/imgs/01_副本7.jpg: doc_preprocessor_res\n",
            "[!] Skipping box with unexpected structure in /content/imgs/01_副本7.jpg: dt_polys\n",
            "[!] Skipping box with unexpected structure in /content/imgs/01_副本7.jpg: model_settings\n",
            "[!] Skipping box with unexpected structure in /content/imgs/01_副本7.jpg: text_det_params\n",
            "[!] Skipping box with unexpected structure in /content/imgs/01_副本7.jpg: text_type\n",
            "[!] Skipping box with unexpected structure in /content/imgs/01_副本7.jpg: text_rec_score_thresh\n",
            "[!] Skipping box with unexpected structure in /content/imgs/01_副本7.jpg: rec_texts\n",
            "[!] Skipping box with unexpected structure in /content/imgs/01_副本7.jpg: rec_scores\n",
            "[!] Skipping box with unexpected structure in /content/imgs/01_副本7.jpg: rec_polys\n",
            "[!] Skipping box with unexpected structure in /content/imgs/01_副本7.jpg: textline_orientation_angles\n",
            "[!] Skipping box with unexpected structure in /content/imgs/01_副本7.jpg: rec_boxes\n",
            "df shape:  (0, 0) \n",
            "\n",
            "[✓] OCR Done: /content/imgs/01_副本7.jpg\n"
          ]
        },
        {
          "metadata": {
            "tags": null
          },
          "name": "stderr",
          "output_type": "stream",
          "text": [
            "\u001b[32mCreating model: ('UVDoc', None)\u001b[0m\n",
            "\u001b[32mUsing official model (UVDoc), the model files will be automatically downloaded and saved in /root/.paddlex/official_models.\u001b[0m\n",
            "\u001b[32mCreating model: ('PP-LCNet_x0_25_textline_ori', None)\u001b[0m\n",
            "\u001b[32mUsing official model (PP-LCNet_x0_25_textline_ori), the model files will be automatically downloaded and saved in /root/.paddlex/official_models.\u001b[0m\n",
            "\u001b[32mCreating model: ('PP-OCRv5_mobile_det', None)\u001b[0m\n",
            "\u001b[32mUsing official model (PP-OCRv5_mobile_det), the model files will be automatically downloaded and saved in /root/.paddlex/official_models.\u001b[0m\n",
            "\u001b[32mCreating model: ('PP-OCRv5_mobile_rec', None)\u001b[0m\n",
            "\u001b[32mUsing official model (PP-OCRv5_mobile_rec), the model files will be automatically downloaded and saved in /root/.paddlex/official_models.\u001b[0m\n",
            "<ipython-input-10-a961632846da>:4: DeprecationWarning: Please use `predict` instead.\n",
            "  result = ocr.ocr(img_path)\n",
            "\u001b[33mResized image size (10222x736) exceeds max_side_limit of 4000. Resizing to fit within limit.\u001b[0m\n",
            "<ipython-input-10-a961632846da>:2: DeprecationWarning: The parameter `use_angle_cls` has been deprecated and will be removed in the future. Please use `use_textline_orientation` instead.\n",
            "  ocr = PaddleOCR(use_angle_cls=True, lang='ch')\n",
            "\u001b[32mCreating model: ('PP-LCNet_x1_0_doc_ori', None)\u001b[0m\n",
            "\u001b[32mUsing official model (PP-LCNet_x1_0_doc_ori), the model files will be automatically downloaded and saved in /root/.paddlex/official_models.\u001b[0m\n"
          ]
        },
        {
          "metadata": {
            "tags": null
          },
          "name": "stdout",
          "output_type": "stream",
          "text": [
            "[!] Skipping box with unexpected structure in /content/imgs/01_副本8.jpg: input_path\n",
            "[!] Skipping box with unexpected structure in /content/imgs/01_副本8.jpg: page_index\n",
            "[!] Skipping box with unexpected structure in /content/imgs/01_副本8.jpg: doc_preprocessor_res\n",
            "[!] Skipping box with unexpected structure in /content/imgs/01_副本8.jpg: dt_polys\n",
            "[!] Skipping box with unexpected structure in /content/imgs/01_副本8.jpg: model_settings\n",
            "[!] Skipping box with unexpected structure in /content/imgs/01_副本8.jpg: text_det_params\n",
            "[!] Skipping box with unexpected structure in /content/imgs/01_副本8.jpg: text_type\n",
            "[!] Skipping box with unexpected structure in /content/imgs/01_副本8.jpg: text_rec_score_thresh\n",
            "[!] Skipping box with unexpected structure in /content/imgs/01_副本8.jpg: rec_texts\n",
            "[!] Skipping box with unexpected structure in /content/imgs/01_副本8.jpg: rec_scores\n",
            "[!] Skipping box with unexpected structure in /content/imgs/01_副本8.jpg: rec_polys\n",
            "[!] Skipping box with unexpected structure in /content/imgs/01_副本8.jpg: textline_orientation_angles\n",
            "[!] Skipping box with unexpected structure in /content/imgs/01_副本8.jpg: rec_boxes\n",
            "df shape:  (0, 0) \n",
            "\n",
            "[✓] OCR Done: /content/imgs/01_副本8.jpg\n"
          ]
        },
        {
          "metadata": {
            "tags": null
          },
          "name": "stderr",
          "output_type": "stream",
          "text": [
            "\u001b[32mCreating model: ('UVDoc', None)\u001b[0m\n",
            "\u001b[32mUsing official model (UVDoc), the model files will be automatically downloaded and saved in /root/.paddlex/official_models.\u001b[0m\n",
            "\u001b[32mCreating model: ('PP-LCNet_x0_25_textline_ori', None)\u001b[0m\n",
            "\u001b[32mUsing official model (PP-LCNet_x0_25_textline_ori), the model files will be automatically downloaded and saved in /root/.paddlex/official_models.\u001b[0m\n",
            "\u001b[32mCreating model: ('PP-OCRv5_mobile_det', None)\u001b[0m\n",
            "\u001b[32mUsing official model (PP-OCRv5_mobile_det), the model files will be automatically downloaded and saved in /root/.paddlex/official_models.\u001b[0m\n",
            "\u001b[32mCreating model: ('PP-OCRv5_mobile_rec', None)\u001b[0m\n",
            "\u001b[32mUsing official model (PP-OCRv5_mobile_rec), the model files will be automatically downloaded and saved in /root/.paddlex/official_models.\u001b[0m\n",
            "<ipython-input-10-a961632846da>:4: DeprecationWarning: Please use `predict` instead.\n",
            "  result = ocr.ocr(img_path)\n",
            "\u001b[33mResized image size (12369x736) exceeds max_side_limit of 4000. Resizing to fit within limit.\u001b[0m\n",
            "<ipython-input-10-a961632846da>:2: DeprecationWarning: The parameter `use_angle_cls` has been deprecated and will be removed in the future. Please use `use_textline_orientation` instead.\n",
            "  ocr = PaddleOCR(use_angle_cls=True, lang='ch')\n",
            "\u001b[32mCreating model: ('PP-LCNet_x1_0_doc_ori', None)\u001b[0m\n",
            "\u001b[32mUsing official model (PP-LCNet_x1_0_doc_ori), the model files will be automatically downloaded and saved in /root/.paddlex/official_models.\u001b[0m\n"
          ]
        },
        {
          "metadata": {
            "tags": null
          },
          "name": "stdout",
          "output_type": "stream",
          "text": [
            "[!] Skipping box with unexpected structure in /content/imgs/01_副本9.jpg: input_path\n",
            "[!] Skipping box with unexpected structure in /content/imgs/01_副本9.jpg: page_index\n",
            "[!] Skipping box with unexpected structure in /content/imgs/01_副本9.jpg: doc_preprocessor_res\n",
            "[!] Skipping box with unexpected structure in /content/imgs/01_副本9.jpg: dt_polys\n",
            "[!] Skipping box with unexpected structure in /content/imgs/01_副本9.jpg: model_settings\n",
            "[!] Skipping box with unexpected structure in /content/imgs/01_副本9.jpg: text_det_params\n",
            "[!] Skipping box with unexpected structure in /content/imgs/01_副本9.jpg: text_type\n",
            "[!] Skipping box with unexpected structure in /content/imgs/01_副本9.jpg: text_rec_score_thresh\n",
            "[!] Skipping box with unexpected structure in /content/imgs/01_副本9.jpg: rec_texts\n",
            "[!] Skipping box with unexpected structure in /content/imgs/01_副本9.jpg: rec_scores\n",
            "[!] Skipping box with unexpected structure in /content/imgs/01_副本9.jpg: rec_polys\n",
            "[!] Skipping box with unexpected structure in /content/imgs/01_副本9.jpg: textline_orientation_angles\n",
            "[!] Skipping box with unexpected structure in /content/imgs/01_副本9.jpg: rec_boxes\n",
            "df shape:  (0, 0) \n",
            "\n",
            "[✓] OCR Done: /content/imgs/01_副本9.jpg\n"
          ]
        },
        {
          "metadata": {
            "tags": null
          },
          "name": "stderr",
          "output_type": "stream",
          "text": [
            "\u001b[32mCreating model: ('UVDoc', None)\u001b[0m\n",
            "\u001b[32mUsing official model (UVDoc), the model files will be automatically downloaded and saved in /root/.paddlex/official_models.\u001b[0m\n",
            "\u001b[32mCreating model: ('PP-LCNet_x0_25_textline_ori', None)\u001b[0m\n",
            "\u001b[32mUsing official model (PP-LCNet_x0_25_textline_ori), the model files will be automatically downloaded and saved in /root/.paddlex/official_models.\u001b[0m\n",
            "\u001b[32mCreating model: ('PP-OCRv5_mobile_det', None)\u001b[0m\n",
            "\u001b[32mUsing official model (PP-OCRv5_mobile_det), the model files will be automatically downloaded and saved in /root/.paddlex/official_models.\u001b[0m\n",
            "\u001b[32mCreating model: ('PP-OCRv5_mobile_rec', None)\u001b[0m\n",
            "\u001b[32mUsing official model (PP-OCRv5_mobile_rec), the model files will be automatically downloaded and saved in /root/.paddlex/official_models.\u001b[0m\n",
            "<ipython-input-10-a961632846da>:4: DeprecationWarning: Please use `predict` instead.\n",
            "  result = ocr.ocr(img_path)\n",
            "\u001b[33mResized image size (12266x736) exceeds max_side_limit of 4000. Resizing to fit within limit.\u001b[0m\n",
            "<ipython-input-10-a961632846da>:2: DeprecationWarning: The parameter `use_angle_cls` has been deprecated and will be removed in the future. Please use `use_textline_orientation` instead.\n",
            "  ocr = PaddleOCR(use_angle_cls=True, lang='ch')\n",
            "\u001b[32mCreating model: ('PP-LCNet_x1_0_doc_ori', None)\u001b[0m\n",
            "\u001b[32mUsing official model (PP-LCNet_x1_0_doc_ori), the model files will be automatically downloaded and saved in /root/.paddlex/official_models.\u001b[0m\n"
          ]
        },
        {
          "metadata": {
            "tags": null
          },
          "name": "stdout",
          "output_type": "stream",
          "text": [
            "[!] Skipping box with unexpected structure in /content/imgs/02_副本.jpg: input_path\n",
            "[!] Skipping box with unexpected structure in /content/imgs/02_副本.jpg: page_index\n",
            "[!] Skipping box with unexpected structure in /content/imgs/02_副本.jpg: doc_preprocessor_res\n",
            "[!] Skipping box with unexpected structure in /content/imgs/02_副本.jpg: dt_polys\n",
            "[!] Skipping box with unexpected structure in /content/imgs/02_副本.jpg: model_settings\n",
            "[!] Skipping box with unexpected structure in /content/imgs/02_副本.jpg: text_det_params\n",
            "[!] Skipping box with unexpected structure in /content/imgs/02_副本.jpg: text_type\n",
            "[!] Skipping box with unexpected structure in /content/imgs/02_副本.jpg: text_rec_score_thresh\n",
            "[!] Skipping box with unexpected structure in /content/imgs/02_副本.jpg: rec_texts\n",
            "[!] Skipping box with unexpected structure in /content/imgs/02_副本.jpg: rec_scores\n",
            "[!] Skipping box with unexpected structure in /content/imgs/02_副本.jpg: rec_polys\n",
            "[!] Skipping box with unexpected structure in /content/imgs/02_副本.jpg: textline_orientation_angles\n",
            "[!] Skipping box with unexpected structure in /content/imgs/02_副本.jpg: rec_boxes\n",
            "df shape:  (0, 0) \n",
            "\n",
            "[✓] OCR Done: /content/imgs/02_副本.jpg\n"
          ]
        },
        {
          "metadata": {
            "tags": null
          },
          "name": "stderr",
          "output_type": "stream",
          "text": [
            "\u001b[32mCreating model: ('UVDoc', None)\u001b[0m\n",
            "\u001b[32mUsing official model (UVDoc), the model files will be automatically downloaded and saved in /root/.paddlex/official_models.\u001b[0m\n",
            "\u001b[32mCreating model: ('PP-LCNet_x0_25_textline_ori', None)\u001b[0m\n",
            "\u001b[32mUsing official model (PP-LCNet_x0_25_textline_ori), the model files will be automatically downloaded and saved in /root/.paddlex/official_models.\u001b[0m\n",
            "\u001b[32mCreating model: ('PP-OCRv5_mobile_det', None)\u001b[0m\n",
            "\u001b[32mUsing official model (PP-OCRv5_mobile_det), the model files will be automatically downloaded and saved in /root/.paddlex/official_models.\u001b[0m\n",
            "\u001b[32mCreating model: ('PP-OCRv5_mobile_rec', None)\u001b[0m\n",
            "\u001b[32mUsing official model (PP-OCRv5_mobile_rec), the model files will be automatically downloaded and saved in /root/.paddlex/official_models.\u001b[0m\n",
            "<ipython-input-10-a961632846da>:4: DeprecationWarning: Please use `predict` instead.\n",
            "  result = ocr.ocr(img_path)\n",
            "\u001b[33mResized image size (12065x736) exceeds max_side_limit of 4000. Resizing to fit within limit.\u001b[0m\n",
            "<ipython-input-10-a961632846da>:2: DeprecationWarning: The parameter `use_angle_cls` has been deprecated and will be removed in the future. Please use `use_textline_orientation` instead.\n",
            "  ocr = PaddleOCR(use_angle_cls=True, lang='ch')\n",
            "\u001b[32mCreating model: ('PP-LCNet_x1_0_doc_ori', None)\u001b[0m\n",
            "\u001b[32mUsing official model (PP-LCNet_x1_0_doc_ori), the model files will be automatically downloaded and saved in /root/.paddlex/official_models.\u001b[0m\n"
          ]
        },
        {
          "metadata": {
            "tags": null
          },
          "name": "stdout",
          "output_type": "stream",
          "text": [
            "[!] Skipping box with unexpected structure in /content/imgs/02_副本1.jpg: input_path\n",
            "[!] Skipping box with unexpected structure in /content/imgs/02_副本1.jpg: page_index\n",
            "[!] Skipping box with unexpected structure in /content/imgs/02_副本1.jpg: doc_preprocessor_res\n",
            "[!] Skipping box with unexpected structure in /content/imgs/02_副本1.jpg: dt_polys\n",
            "[!] Skipping box with unexpected structure in /content/imgs/02_副本1.jpg: model_settings\n",
            "[!] Skipping box with unexpected structure in /content/imgs/02_副本1.jpg: text_det_params\n",
            "[!] Skipping box with unexpected structure in /content/imgs/02_副本1.jpg: text_type\n",
            "[!] Skipping box with unexpected structure in /content/imgs/02_副本1.jpg: text_rec_score_thresh\n",
            "[!] Skipping box with unexpected structure in /content/imgs/02_副本1.jpg: rec_texts\n",
            "[!] Skipping box with unexpected structure in /content/imgs/02_副本1.jpg: rec_scores\n",
            "[!] Skipping box with unexpected structure in /content/imgs/02_副本1.jpg: rec_polys\n",
            "[!] Skipping box with unexpected structure in /content/imgs/02_副本1.jpg: textline_orientation_angles\n",
            "[!] Skipping box with unexpected structure in /content/imgs/02_副本1.jpg: rec_boxes\n",
            "df shape:  (0, 0) \n",
            "\n",
            "[✓] OCR Done: /content/imgs/02_副本1.jpg\n"
          ]
        },
        {
          "metadata": {
            "tags": null
          },
          "name": "stderr",
          "output_type": "stream",
          "text": [
            "\u001b[32mCreating model: ('UVDoc', None)\u001b[0m\n",
            "\u001b[32mUsing official model (UVDoc), the model files will be automatically downloaded and saved in /root/.paddlex/official_models.\u001b[0m\n",
            "\u001b[32mCreating model: ('PP-LCNet_x0_25_textline_ori', None)\u001b[0m\n",
            "\u001b[32mUsing official model (PP-LCNet_x0_25_textline_ori), the model files will be automatically downloaded and saved in /root/.paddlex/official_models.\u001b[0m\n",
            "\u001b[32mCreating model: ('PP-OCRv5_mobile_det', None)\u001b[0m\n",
            "\u001b[32mUsing official model (PP-OCRv5_mobile_det), the model files will be automatically downloaded and saved in /root/.paddlex/official_models.\u001b[0m\n",
            "\u001b[32mCreating model: ('PP-OCRv5_mobile_rec', None)\u001b[0m\n",
            "\u001b[32mUsing official model (PP-OCRv5_mobile_rec), the model files will be automatically downloaded and saved in /root/.paddlex/official_models.\u001b[0m\n",
            "<ipython-input-10-a961632846da>:4: DeprecationWarning: Please use `predict` instead.\n",
            "  result = ocr.ocr(img_path)\n",
            "\u001b[33mResized image size (735x17116) exceeds max_side_limit of 4000. Resizing to fit within limit.\u001b[0m\n",
            "<ipython-input-10-a961632846da>:2: DeprecationWarning: The parameter `use_angle_cls` has been deprecated and will be removed in the future. Please use `use_textline_orientation` instead.\n",
            "  ocr = PaddleOCR(use_angle_cls=True, lang='ch')\n",
            "\u001b[32mCreating model: ('PP-LCNet_x1_0_doc_ori', None)\u001b[0m\n",
            "\u001b[32mUsing official model (PP-LCNet_x1_0_doc_ori), the model files will be automatically downloaded and saved in /root/.paddlex/official_models.\u001b[0m\n"
          ]
        },
        {
          "metadata": {
            "tags": null
          },
          "name": "stdout",
          "output_type": "stream",
          "text": [
            "[!] Skipping box with unexpected structure in /content/imgs/02_副本10.jpg: input_path\n",
            "[!] Skipping box with unexpected structure in /content/imgs/02_副本10.jpg: page_index\n",
            "[!] Skipping box with unexpected structure in /content/imgs/02_副本10.jpg: doc_preprocessor_res\n",
            "[!] Skipping box with unexpected structure in /content/imgs/02_副本10.jpg: dt_polys\n",
            "[!] Skipping box with unexpected structure in /content/imgs/02_副本10.jpg: model_settings\n",
            "[!] Skipping box with unexpected structure in /content/imgs/02_副本10.jpg: text_det_params\n",
            "[!] Skipping box with unexpected structure in /content/imgs/02_副本10.jpg: text_type\n",
            "[!] Skipping box with unexpected structure in /content/imgs/02_副本10.jpg: text_rec_score_thresh\n",
            "[!] Skipping box with unexpected structure in /content/imgs/02_副本10.jpg: rec_texts\n",
            "[!] Skipping box with unexpected structure in /content/imgs/02_副本10.jpg: rec_scores\n",
            "[!] Skipping box with unexpected structure in /content/imgs/02_副本10.jpg: rec_polys\n",
            "[!] Skipping box with unexpected structure in /content/imgs/02_副本10.jpg: textline_orientation_angles\n",
            "[!] Skipping box with unexpected structure in /content/imgs/02_副本10.jpg: rec_boxes\n",
            "df shape:  (0, 0) \n",
            "\n",
            "[✓] OCR Done: /content/imgs/02_副本10.jpg\n"
          ]
        },
        {
          "metadata": {
            "tags": null
          },
          "name": "stderr",
          "output_type": "stream",
          "text": [
            "\u001b[32mCreating model: ('UVDoc', None)\u001b[0m\n",
            "\u001b[32mUsing official model (UVDoc), the model files will be automatically downloaded and saved in /root/.paddlex/official_models.\u001b[0m\n",
            "\u001b[32mCreating model: ('PP-LCNet_x0_25_textline_ori', None)\u001b[0m\n",
            "\u001b[32mUsing official model (PP-LCNet_x0_25_textline_ori), the model files will be automatically downloaded and saved in /root/.paddlex/official_models.\u001b[0m\n",
            "\u001b[32mCreating model: ('PP-OCRv5_mobile_det', None)\u001b[0m\n",
            "\u001b[32mUsing official model (PP-OCRv5_mobile_det), the model files will be automatically downloaded and saved in /root/.paddlex/official_models.\u001b[0m\n",
            "\u001b[32mCreating model: ('PP-OCRv5_mobile_rec', None)\u001b[0m\n",
            "\u001b[32mUsing official model (PP-OCRv5_mobile_rec), the model files will be automatically downloaded and saved in /root/.paddlex/official_models.\u001b[0m\n",
            "<ipython-input-10-a961632846da>:4: DeprecationWarning: Please use `predict` instead.\n",
            "  result = ocr.ocr(img_path)\n",
            "\u001b[33mResized image size (17523x736) exceeds max_side_limit of 4000. Resizing to fit within limit.\u001b[0m\n",
            "<ipython-input-10-a961632846da>:2: DeprecationWarning: The parameter `use_angle_cls` has been deprecated and will be removed in the future. Please use `use_textline_orientation` instead.\n",
            "  ocr = PaddleOCR(use_angle_cls=True, lang='ch')\n",
            "\u001b[32mCreating model: ('PP-LCNet_x1_0_doc_ori', None)\u001b[0m\n",
            "\u001b[32mUsing official model (PP-LCNet_x1_0_doc_ori), the model files will be automatically downloaded and saved in /root/.paddlex/official_models.\u001b[0m\n"
          ]
        },
        {
          "metadata": {
            "tags": null
          },
          "name": "stdout",
          "output_type": "stream",
          "text": [
            "[!] Skipping box with unexpected structure in /content/imgs/02_副本11.jpg: input_path\n",
            "[!] Skipping box with unexpected structure in /content/imgs/02_副本11.jpg: page_index\n",
            "[!] Skipping box with unexpected structure in /content/imgs/02_副本11.jpg: doc_preprocessor_res\n",
            "[!] Skipping box with unexpected structure in /content/imgs/02_副本11.jpg: dt_polys\n",
            "[!] Skipping box with unexpected structure in /content/imgs/02_副本11.jpg: model_settings\n",
            "[!] Skipping box with unexpected structure in /content/imgs/02_副本11.jpg: text_det_params\n",
            "[!] Skipping box with unexpected structure in /content/imgs/02_副本11.jpg: text_type\n",
            "[!] Skipping box with unexpected structure in /content/imgs/02_副本11.jpg: text_rec_score_thresh\n",
            "[!] Skipping box with unexpected structure in /content/imgs/02_副本11.jpg: rec_texts\n",
            "[!] Skipping box with unexpected structure in /content/imgs/02_副本11.jpg: rec_scores\n",
            "[!] Skipping box with unexpected structure in /content/imgs/02_副本11.jpg: rec_polys\n",
            "[!] Skipping box with unexpected structure in /content/imgs/02_副本11.jpg: textline_orientation_angles\n",
            "[!] Skipping box with unexpected structure in /content/imgs/02_副本11.jpg: rec_boxes\n",
            "df shape:  (0, 0) \n",
            "\n",
            "[✓] OCR Done: /content/imgs/02_副本11.jpg\n"
          ]
        },
        {
          "metadata": {
            "tags": null
          },
          "name": "stderr",
          "output_type": "stream",
          "text": [
            "\u001b[32mCreating model: ('UVDoc', None)\u001b[0m\n",
            "\u001b[32mUsing official model (UVDoc), the model files will be automatically downloaded and saved in /root/.paddlex/official_models.\u001b[0m\n",
            "\u001b[32mCreating model: ('PP-LCNet_x0_25_textline_ori', None)\u001b[0m\n",
            "\u001b[32mUsing official model (PP-LCNet_x0_25_textline_ori), the model files will be automatically downloaded and saved in /root/.paddlex/official_models.\u001b[0m\n",
            "\u001b[32mCreating model: ('PP-OCRv5_mobile_det', None)\u001b[0m\n",
            "\u001b[32mUsing official model (PP-OCRv5_mobile_det), the model files will be automatically downloaded and saved in /root/.paddlex/official_models.\u001b[0m\n",
            "\u001b[32mCreating model: ('PP-OCRv5_mobile_rec', None)\u001b[0m\n",
            "\u001b[32mUsing official model (PP-OCRv5_mobile_rec), the model files will be automatically downloaded and saved in /root/.paddlex/official_models.\u001b[0m\n",
            "<ipython-input-10-a961632846da>:4: DeprecationWarning: Please use `predict` instead.\n",
            "  result = ocr.ocr(img_path)\n",
            "\u001b[33mResized image size (16727x736) exceeds max_side_limit of 4000. Resizing to fit within limit.\u001b[0m\n",
            "<ipython-input-10-a961632846da>:2: DeprecationWarning: The parameter `use_angle_cls` has been deprecated and will be removed in the future. Please use `use_textline_orientation` instead.\n",
            "  ocr = PaddleOCR(use_angle_cls=True, lang='ch')\n",
            "\u001b[32mCreating model: ('PP-LCNet_x1_0_doc_ori', None)\u001b[0m\n",
            "\u001b[32mUsing official model (PP-LCNet_x1_0_doc_ori), the model files will be automatically downloaded and saved in /root/.paddlex/official_models.\u001b[0m\n"
          ]
        },
        {
          "metadata": {
            "tags": null
          },
          "name": "stdout",
          "output_type": "stream",
          "text": [
            "[!] Skipping box with unexpected structure in /content/imgs/02_副本12.jpg: input_path\n",
            "[!] Skipping box with unexpected structure in /content/imgs/02_副本12.jpg: page_index\n",
            "[!] Skipping box with unexpected structure in /content/imgs/02_副本12.jpg: doc_preprocessor_res\n",
            "[!] Skipping box with unexpected structure in /content/imgs/02_副本12.jpg: dt_polys\n",
            "[!] Skipping box with unexpected structure in /content/imgs/02_副本12.jpg: model_settings\n",
            "[!] Skipping box with unexpected structure in /content/imgs/02_副本12.jpg: text_det_params\n",
            "[!] Skipping box with unexpected structure in /content/imgs/02_副本12.jpg: text_type\n",
            "[!] Skipping box with unexpected structure in /content/imgs/02_副本12.jpg: text_rec_score_thresh\n",
            "[!] Skipping box with unexpected structure in /content/imgs/02_副本12.jpg: rec_texts\n",
            "[!] Skipping box with unexpected structure in /content/imgs/02_副本12.jpg: rec_scores\n",
            "[!] Skipping box with unexpected structure in /content/imgs/02_副本12.jpg: rec_polys\n",
            "[!] Skipping box with unexpected structure in /content/imgs/02_副本12.jpg: textline_orientation_angles\n",
            "[!] Skipping box with unexpected structure in /content/imgs/02_副本12.jpg: rec_boxes\n",
            "df shape:  (0, 0) \n",
            "\n",
            "[✓] OCR Done: /content/imgs/02_副本12.jpg\n"
          ]
        },
        {
          "metadata": {
            "tags": null
          },
          "name": "stderr",
          "output_type": "stream",
          "text": [
            "\u001b[32mCreating model: ('UVDoc', None)\u001b[0m\n",
            "\u001b[32mUsing official model (UVDoc), the model files will be automatically downloaded and saved in /root/.paddlex/official_models.\u001b[0m\n",
            "\u001b[32mCreating model: ('PP-LCNet_x0_25_textline_ori', None)\u001b[0m\n",
            "\u001b[32mUsing official model (PP-LCNet_x0_25_textline_ori), the model files will be automatically downloaded and saved in /root/.paddlex/official_models.\u001b[0m\n",
            "\u001b[32mCreating model: ('PP-OCRv5_mobile_det', None)\u001b[0m\n",
            "\u001b[32mUsing official model (PP-OCRv5_mobile_det), the model files will be automatically downloaded and saved in /root/.paddlex/official_models.\u001b[0m\n",
            "\u001b[32mCreating model: ('PP-OCRv5_mobile_rec', None)\u001b[0m\n",
            "\u001b[32mUsing official model (PP-OCRv5_mobile_rec), the model files will be automatically downloaded and saved in /root/.paddlex/official_models.\u001b[0m\n",
            "<ipython-input-10-a961632846da>:4: DeprecationWarning: Please use `predict` instead.\n",
            "  result = ocr.ocr(img_path)\n",
            "\u001b[33mResized image size (736x16919) exceeds max_side_limit of 4000. Resizing to fit within limit.\u001b[0m\n",
            "<ipython-input-10-a961632846da>:2: DeprecationWarning: The parameter `use_angle_cls` has been deprecated and will be removed in the future. Please use `use_textline_orientation` instead.\n",
            "  ocr = PaddleOCR(use_angle_cls=True, lang='ch')\n",
            "\u001b[32mCreating model: ('PP-LCNet_x1_0_doc_ori', None)\u001b[0m\n",
            "\u001b[32mUsing official model (PP-LCNet_x1_0_doc_ori), the model files will be automatically downloaded and saved in /root/.paddlex/official_models.\u001b[0m\n"
          ]
        },
        {
          "metadata": {
            "tags": null
          },
          "name": "stdout",
          "output_type": "stream",
          "text": [
            "[!] Skipping box with unexpected structure in /content/imgs/02_副本13.jpg: input_path\n",
            "[!] Skipping box with unexpected structure in /content/imgs/02_副本13.jpg: page_index\n",
            "[!] Skipping box with unexpected structure in /content/imgs/02_副本13.jpg: doc_preprocessor_res\n",
            "[!] Skipping box with unexpected structure in /content/imgs/02_副本13.jpg: dt_polys\n",
            "[!] Skipping box with unexpected structure in /content/imgs/02_副本13.jpg: model_settings\n",
            "[!] Skipping box with unexpected structure in /content/imgs/02_副本13.jpg: text_det_params\n",
            "[!] Skipping box with unexpected structure in /content/imgs/02_副本13.jpg: text_type\n",
            "[!] Skipping box with unexpected structure in /content/imgs/02_副本13.jpg: text_rec_score_thresh\n",
            "[!] Skipping box with unexpected structure in /content/imgs/02_副本13.jpg: rec_texts\n",
            "[!] Skipping box with unexpected structure in /content/imgs/02_副本13.jpg: rec_scores\n",
            "[!] Skipping box with unexpected structure in /content/imgs/02_副本13.jpg: rec_polys\n",
            "[!] Skipping box with unexpected structure in /content/imgs/02_副本13.jpg: textline_orientation_angles\n",
            "[!] Skipping box with unexpected structure in /content/imgs/02_副本13.jpg: rec_boxes\n",
            "df shape:  (0, 0) \n",
            "\n",
            "[✓] OCR Done: /content/imgs/02_副本13.jpg\n"
          ]
        },
        {
          "metadata": {
            "tags": null
          },
          "name": "stderr",
          "output_type": "stream",
          "text": [
            "\u001b[32mCreating model: ('UVDoc', None)\u001b[0m\n",
            "\u001b[32mUsing official model (UVDoc), the model files will be automatically downloaded and saved in /root/.paddlex/official_models.\u001b[0m\n",
            "\u001b[32mCreating model: ('PP-LCNet_x0_25_textline_ori', None)\u001b[0m\n",
            "\u001b[32mUsing official model (PP-LCNet_x0_25_textline_ori), the model files will be automatically downloaded and saved in /root/.paddlex/official_models.\u001b[0m\n",
            "\u001b[32mCreating model: ('PP-OCRv5_mobile_det', None)\u001b[0m\n",
            "\u001b[32mUsing official model (PP-OCRv5_mobile_det), the model files will be automatically downloaded and saved in /root/.paddlex/official_models.\u001b[0m\n",
            "\u001b[32mCreating model: ('PP-OCRv5_mobile_rec', None)\u001b[0m\n",
            "\u001b[32mUsing official model (PP-OCRv5_mobile_rec), the model files will be automatically downloaded and saved in /root/.paddlex/official_models.\u001b[0m\n",
            "<ipython-input-10-a961632846da>:4: DeprecationWarning: Please use `predict` instead.\n",
            "  result = ocr.ocr(img_path)\n",
            "\u001b[33mResized image size (8608x736) exceeds max_side_limit of 4000. Resizing to fit within limit.\u001b[0m\n",
            "<ipython-input-10-a961632846da>:2: DeprecationWarning: The parameter `use_angle_cls` has been deprecated and will be removed in the future. Please use `use_textline_orientation` instead.\n",
            "  ocr = PaddleOCR(use_angle_cls=True, lang='ch')\n",
            "\u001b[32mCreating model: ('PP-LCNet_x1_0_doc_ori', None)\u001b[0m\n",
            "\u001b[32mUsing official model (PP-LCNet_x1_0_doc_ori), the model files will be automatically downloaded and saved in /root/.paddlex/official_models.\u001b[0m\n"
          ]
        },
        {
          "metadata": {
            "tags": null
          },
          "name": "stdout",
          "output_type": "stream",
          "text": [
            "[!] Skipping box with unexpected structure in /content/imgs/02_副本2.jpg: input_path\n",
            "[!] Skipping box with unexpected structure in /content/imgs/02_副本2.jpg: page_index\n",
            "[!] Skipping box with unexpected structure in /content/imgs/02_副本2.jpg: doc_preprocessor_res\n",
            "[!] Skipping box with unexpected structure in /content/imgs/02_副本2.jpg: dt_polys\n",
            "[!] Skipping box with unexpected structure in /content/imgs/02_副本2.jpg: model_settings\n",
            "[!] Skipping box with unexpected structure in /content/imgs/02_副本2.jpg: text_det_params\n",
            "[!] Skipping box with unexpected structure in /content/imgs/02_副本2.jpg: text_type\n",
            "[!] Skipping box with unexpected structure in /content/imgs/02_副本2.jpg: text_rec_score_thresh\n",
            "[!] Skipping box with unexpected structure in /content/imgs/02_副本2.jpg: rec_texts\n",
            "[!] Skipping box with unexpected structure in /content/imgs/02_副本2.jpg: rec_scores\n",
            "[!] Skipping box with unexpected structure in /content/imgs/02_副本2.jpg: rec_polys\n",
            "[!] Skipping box with unexpected structure in /content/imgs/02_副本2.jpg: textline_orientation_angles\n",
            "[!] Skipping box with unexpected structure in /content/imgs/02_副本2.jpg: rec_boxes\n",
            "df shape:  (0, 0) \n",
            "\n",
            "[✓] OCR Done: /content/imgs/02_副本2.jpg\n"
          ]
        },
        {
          "metadata": {
            "tags": null
          },
          "name": "stderr",
          "output_type": "stream",
          "text": [
            "\u001b[32mCreating model: ('UVDoc', None)\u001b[0m\n",
            "\u001b[32mUsing official model (UVDoc), the model files will be automatically downloaded and saved in /root/.paddlex/official_models.\u001b[0m\n",
            "\u001b[32mCreating model: ('PP-LCNet_x0_25_textline_ori', None)\u001b[0m\n",
            "\u001b[32mUsing official model (PP-LCNet_x0_25_textline_ori), the model files will be automatically downloaded and saved in /root/.paddlex/official_models.\u001b[0m\n",
            "\u001b[32mCreating model: ('PP-OCRv5_mobile_det', None)\u001b[0m\n",
            "\u001b[32mUsing official model (PP-OCRv5_mobile_det), the model files will be automatically downloaded and saved in /root/.paddlex/official_models.\u001b[0m\n",
            "\u001b[32mCreating model: ('PP-OCRv5_mobile_rec', None)\u001b[0m\n",
            "\u001b[32mUsing official model (PP-OCRv5_mobile_rec), the model files will be automatically downloaded and saved in /root/.paddlex/official_models.\u001b[0m\n",
            "<ipython-input-10-a961632846da>:4: DeprecationWarning: Please use `predict` instead.\n",
            "  result = ocr.ocr(img_path)\n",
            "\u001b[33mResized image size (11967x736) exceeds max_side_limit of 4000. Resizing to fit within limit.\u001b[0m\n",
            "<ipython-input-10-a961632846da>:2: DeprecationWarning: The parameter `use_angle_cls` has been deprecated and will be removed in the future. Please use `use_textline_orientation` instead.\n",
            "  ocr = PaddleOCR(use_angle_cls=True, lang='ch')\n",
            "\u001b[32mCreating model: ('PP-LCNet_x1_0_doc_ori', None)\u001b[0m\n",
            "\u001b[32mUsing official model (PP-LCNet_x1_0_doc_ori), the model files will be automatically downloaded and saved in /root/.paddlex/official_models.\u001b[0m\n"
          ]
        },
        {
          "metadata": {
            "tags": null
          },
          "name": "stdout",
          "output_type": "stream",
          "text": [
            "[!] Skipping box with unexpected structure in /content/imgs/02_副本3.jpg: input_path\n",
            "[!] Skipping box with unexpected structure in /content/imgs/02_副本3.jpg: page_index\n",
            "[!] Skipping box with unexpected structure in /content/imgs/02_副本3.jpg: doc_preprocessor_res\n",
            "[!] Skipping box with unexpected structure in /content/imgs/02_副本3.jpg: dt_polys\n",
            "[!] Skipping box with unexpected structure in /content/imgs/02_副本3.jpg: model_settings\n",
            "[!] Skipping box with unexpected structure in /content/imgs/02_副本3.jpg: text_det_params\n",
            "[!] Skipping box with unexpected structure in /content/imgs/02_副本3.jpg: text_type\n",
            "[!] Skipping box with unexpected structure in /content/imgs/02_副本3.jpg: text_rec_score_thresh\n",
            "[!] Skipping box with unexpected structure in /content/imgs/02_副本3.jpg: rec_texts\n",
            "[!] Skipping box with unexpected structure in /content/imgs/02_副本3.jpg: rec_scores\n",
            "[!] Skipping box with unexpected structure in /content/imgs/02_副本3.jpg: rec_polys\n",
            "[!] Skipping box with unexpected structure in /content/imgs/02_副本3.jpg: textline_orientation_angles\n",
            "[!] Skipping box with unexpected structure in /content/imgs/02_副本3.jpg: rec_boxes\n",
            "df shape:  (0, 0) \n",
            "\n",
            "[✓] OCR Done: /content/imgs/02_副本3.jpg\n"
          ]
        },
        {
          "metadata": {
            "tags": null
          },
          "name": "stderr",
          "output_type": "stream",
          "text": [
            "\u001b[32mCreating model: ('UVDoc', None)\u001b[0m\n",
            "\u001b[32mUsing official model (UVDoc), the model files will be automatically downloaded and saved in /root/.paddlex/official_models.\u001b[0m\n",
            "\u001b[32mCreating model: ('PP-LCNet_x0_25_textline_ori', None)\u001b[0m\n",
            "\u001b[32mUsing official model (PP-LCNet_x0_25_textline_ori), the model files will be automatically downloaded and saved in /root/.paddlex/official_models.\u001b[0m\n",
            "\u001b[32mCreating model: ('PP-OCRv5_mobile_det', None)\u001b[0m\n",
            "\u001b[32mUsing official model (PP-OCRv5_mobile_det), the model files will be automatically downloaded and saved in /root/.paddlex/official_models.\u001b[0m\n",
            "\u001b[32mCreating model: ('PP-OCRv5_mobile_rec', None)\u001b[0m\n",
            "\u001b[32mUsing official model (PP-OCRv5_mobile_rec), the model files will be automatically downloaded and saved in /root/.paddlex/official_models.\u001b[0m\n",
            "<ipython-input-10-a961632846da>:4: DeprecationWarning: Please use `predict` instead.\n",
            "  result = ocr.ocr(img_path)\n",
            "\u001b[33mResized image size (12369x736) exceeds max_side_limit of 4000. Resizing to fit within limit.\u001b[0m\n",
            "<ipython-input-10-a961632846da>:2: DeprecationWarning: The parameter `use_angle_cls` has been deprecated and will be removed in the future. Please use `use_textline_orientation` instead.\n",
            "  ocr = PaddleOCR(use_angle_cls=True, lang='ch')\n",
            "\u001b[32mCreating model: ('PP-LCNet_x1_0_doc_ori', None)\u001b[0m\n",
            "\u001b[32mUsing official model (PP-LCNet_x1_0_doc_ori), the model files will be automatically downloaded and saved in /root/.paddlex/official_models.\u001b[0m\n"
          ]
        },
        {
          "metadata": {
            "tags": null
          },
          "name": "stdout",
          "output_type": "stream",
          "text": [
            "[!] Skipping box with unexpected structure in /content/imgs/02_副本4.jpg: input_path\n",
            "[!] Skipping box with unexpected structure in /content/imgs/02_副本4.jpg: page_index\n",
            "[!] Skipping box with unexpected structure in /content/imgs/02_副本4.jpg: doc_preprocessor_res\n",
            "[!] Skipping box with unexpected structure in /content/imgs/02_副本4.jpg: dt_polys\n",
            "[!] Skipping box with unexpected structure in /content/imgs/02_副本4.jpg: model_settings\n",
            "[!] Skipping box with unexpected structure in /content/imgs/02_副本4.jpg: text_det_params\n",
            "[!] Skipping box with unexpected structure in /content/imgs/02_副本4.jpg: text_type\n",
            "[!] Skipping box with unexpected structure in /content/imgs/02_副本4.jpg: text_rec_score_thresh\n",
            "[!] Skipping box with unexpected structure in /content/imgs/02_副本4.jpg: rec_texts\n",
            "[!] Skipping box with unexpected structure in /content/imgs/02_副本4.jpg: rec_scores\n",
            "[!] Skipping box with unexpected structure in /content/imgs/02_副本4.jpg: rec_polys\n",
            "[!] Skipping box with unexpected structure in /content/imgs/02_副本4.jpg: textline_orientation_angles\n",
            "[!] Skipping box with unexpected structure in /content/imgs/02_副本4.jpg: rec_boxes\n",
            "df shape:  (0, 0) \n",
            "\n",
            "[✓] OCR Done: /content/imgs/02_副本4.jpg\n"
          ]
        },
        {
          "metadata": {
            "tags": null
          },
          "name": "stderr",
          "output_type": "stream",
          "text": [
            "\u001b[32mCreating model: ('UVDoc', None)\u001b[0m\n",
            "\u001b[32mUsing official model (UVDoc), the model files will be automatically downloaded and saved in /root/.paddlex/official_models.\u001b[0m\n",
            "\u001b[32mCreating model: ('PP-LCNet_x0_25_textline_ori', None)\u001b[0m\n",
            "\u001b[32mUsing official model (PP-LCNet_x0_25_textline_ori), the model files will be automatically downloaded and saved in /root/.paddlex/official_models.\u001b[0m\n",
            "\u001b[32mCreating model: ('PP-OCRv5_mobile_det', None)\u001b[0m\n",
            "\u001b[32mUsing official model (PP-OCRv5_mobile_det), the model files will be automatically downloaded and saved in /root/.paddlex/official_models.\u001b[0m\n",
            "\u001b[32mCreating model: ('PP-OCRv5_mobile_rec', None)\u001b[0m\n",
            "\u001b[32mUsing official model (PP-OCRv5_mobile_rec), the model files will be automatically downloaded and saved in /root/.paddlex/official_models.\u001b[0m\n",
            "<ipython-input-10-a961632846da>:4: DeprecationWarning: Please use `predict` instead.\n",
            "  result = ocr.ocr(img_path)\n",
            "\u001b[33mResized image size (12369x736) exceeds max_side_limit of 4000. Resizing to fit within limit.\u001b[0m\n",
            "<ipython-input-10-a961632846da>:2: DeprecationWarning: The parameter `use_angle_cls` has been deprecated and will be removed in the future. Please use `use_textline_orientation` instead.\n",
            "  ocr = PaddleOCR(use_angle_cls=True, lang='ch')\n",
            "\u001b[32mCreating model: ('PP-LCNet_x1_0_doc_ori', None)\u001b[0m\n",
            "\u001b[32mUsing official model (PP-LCNet_x1_0_doc_ori), the model files will be automatically downloaded and saved in /root/.paddlex/official_models.\u001b[0m\n"
          ]
        },
        {
          "metadata": {
            "tags": null
          },
          "name": "stdout",
          "output_type": "stream",
          "text": [
            "[!] Skipping box with unexpected structure in /content/imgs/02_副本5.jpg: input_path\n",
            "[!] Skipping box with unexpected structure in /content/imgs/02_副本5.jpg: page_index\n",
            "[!] Skipping box with unexpected structure in /content/imgs/02_副本5.jpg: doc_preprocessor_res\n",
            "[!] Skipping box with unexpected structure in /content/imgs/02_副本5.jpg: dt_polys\n",
            "[!] Skipping box with unexpected structure in /content/imgs/02_副本5.jpg: model_settings\n",
            "[!] Skipping box with unexpected structure in /content/imgs/02_副本5.jpg: text_det_params\n",
            "[!] Skipping box with unexpected structure in /content/imgs/02_副本5.jpg: text_type\n",
            "[!] Skipping box with unexpected structure in /content/imgs/02_副本5.jpg: text_rec_score_thresh\n",
            "[!] Skipping box with unexpected structure in /content/imgs/02_副本5.jpg: rec_texts\n",
            "[!] Skipping box with unexpected structure in /content/imgs/02_副本5.jpg: rec_scores\n",
            "[!] Skipping box with unexpected structure in /content/imgs/02_副本5.jpg: rec_polys\n",
            "[!] Skipping box with unexpected structure in /content/imgs/02_副本5.jpg: textline_orientation_angles\n",
            "[!] Skipping box with unexpected structure in /content/imgs/02_副本5.jpg: rec_boxes\n",
            "df shape:  (0, 0) \n",
            "\n",
            "[✓] OCR Done: /content/imgs/02_副本5.jpg\n"
          ]
        },
        {
          "metadata": {
            "tags": null
          },
          "name": "stderr",
          "output_type": "stream",
          "text": [
            "\u001b[32mCreating model: ('UVDoc', None)\u001b[0m\n",
            "\u001b[32mUsing official model (UVDoc), the model files will be automatically downloaded and saved in /root/.paddlex/official_models.\u001b[0m\n",
            "\u001b[32mCreating model: ('PP-LCNet_x0_25_textline_ori', None)\u001b[0m\n",
            "\u001b[32mUsing official model (PP-LCNet_x0_25_textline_ori), the model files will be automatically downloaded and saved in /root/.paddlex/official_models.\u001b[0m\n",
            "\u001b[32mCreating model: ('PP-OCRv5_mobile_det', None)\u001b[0m\n",
            "\u001b[32mUsing official model (PP-OCRv5_mobile_det), the model files will be automatically downloaded and saved in /root/.paddlex/official_models.\u001b[0m\n",
            "\u001b[32mCreating model: ('PP-OCRv5_mobile_rec', None)\u001b[0m\n",
            "\u001b[32mUsing official model (PP-OCRv5_mobile_rec), the model files will be automatically downloaded and saved in /root/.paddlex/official_models.\u001b[0m\n",
            "<ipython-input-10-a961632846da>:4: DeprecationWarning: Please use `predict` instead.\n",
            "  result = ocr.ocr(img_path)\n",
            "\u001b[33mResized image size (16727x736) exceeds max_side_limit of 4000. Resizing to fit within limit.\u001b[0m\n",
            "<ipython-input-10-a961632846da>:2: DeprecationWarning: The parameter `use_angle_cls` has been deprecated and will be removed in the future. Please use `use_textline_orientation` instead.\n",
            "  ocr = PaddleOCR(use_angle_cls=True, lang='ch')\n",
            "\u001b[32mCreating model: ('PP-LCNet_x1_0_doc_ori', None)\u001b[0m\n",
            "\u001b[32mUsing official model (PP-LCNet_x1_0_doc_ori), the model files will be automatically downloaded and saved in /root/.paddlex/official_models.\u001b[0m\n"
          ]
        },
        {
          "metadata": {
            "tags": null
          },
          "name": "stdout",
          "output_type": "stream",
          "text": [
            "[!] Skipping box with unexpected structure in /content/imgs/02_副本6.jpg: input_path\n",
            "[!] Skipping box with unexpected structure in /content/imgs/02_副本6.jpg: page_index\n",
            "[!] Skipping box with unexpected structure in /content/imgs/02_副本6.jpg: doc_preprocessor_res\n",
            "[!] Skipping box with unexpected structure in /content/imgs/02_副本6.jpg: dt_polys\n",
            "[!] Skipping box with unexpected structure in /content/imgs/02_副本6.jpg: model_settings\n",
            "[!] Skipping box with unexpected structure in /content/imgs/02_副本6.jpg: text_det_params\n",
            "[!] Skipping box with unexpected structure in /content/imgs/02_副本6.jpg: text_type\n",
            "[!] Skipping box with unexpected structure in /content/imgs/02_副本6.jpg: text_rec_score_thresh\n",
            "[!] Skipping box with unexpected structure in /content/imgs/02_副本6.jpg: rec_texts\n",
            "[!] Skipping box with unexpected structure in /content/imgs/02_副本6.jpg: rec_scores\n",
            "[!] Skipping box with unexpected structure in /content/imgs/02_副本6.jpg: rec_polys\n",
            "[!] Skipping box with unexpected structure in /content/imgs/02_副本6.jpg: textline_orientation_angles\n",
            "[!] Skipping box with unexpected structure in /content/imgs/02_副本6.jpg: rec_boxes\n",
            "df shape:  (0, 0) \n",
            "\n",
            "[✓] OCR Done: /content/imgs/02_副本6.jpg\n"
          ]
        },
        {
          "metadata": {
            "tags": null
          },
          "name": "stderr",
          "output_type": "stream",
          "text": [
            "\u001b[32mCreating model: ('UVDoc', None)\u001b[0m\n",
            "\u001b[32mUsing official model (UVDoc), the model files will be automatically downloaded and saved in /root/.paddlex/official_models.\u001b[0m\n",
            "\u001b[32mCreating model: ('PP-LCNet_x0_25_textline_ori', None)\u001b[0m\n",
            "\u001b[32mUsing official model (PP-LCNet_x0_25_textline_ori), the model files will be automatically downloaded and saved in /root/.paddlex/official_models.\u001b[0m\n",
            "\u001b[32mCreating model: ('PP-OCRv5_mobile_det', None)\u001b[0m\n",
            "\u001b[32mUsing official model (PP-OCRv5_mobile_det), the model files will be automatically downloaded and saved in /root/.paddlex/official_models.\u001b[0m\n",
            "\u001b[32mCreating model: ('PP-OCRv5_mobile_rec', None)\u001b[0m\n",
            "\u001b[32mUsing official model (PP-OCRv5_mobile_rec), the model files will be automatically downloaded and saved in /root/.paddlex/official_models.\u001b[0m\n",
            "<ipython-input-10-a961632846da>:4: DeprecationWarning: Please use `predict` instead.\n",
            "  result = ocr.ocr(img_path)\n",
            "\u001b[33mResized image size (736x16919) exceeds max_side_limit of 4000. Resizing to fit within limit.\u001b[0m\n",
            "<ipython-input-10-a961632846da>:2: DeprecationWarning: The parameter `use_angle_cls` has been deprecated and will be removed in the future. Please use `use_textline_orientation` instead.\n",
            "  ocr = PaddleOCR(use_angle_cls=True, lang='ch')\n",
            "\u001b[32mCreating model: ('PP-LCNet_x1_0_doc_ori', None)\u001b[0m\n",
            "\u001b[32mUsing official model (PP-LCNet_x1_0_doc_ori), the model files will be automatically downloaded and saved in /root/.paddlex/official_models.\u001b[0m\n"
          ]
        },
        {
          "metadata": {
            "tags": null
          },
          "name": "stdout",
          "output_type": "stream",
          "text": [
            "[!] Skipping box with unexpected structure in /content/imgs/02_副本7.jpg: input_path\n",
            "[!] Skipping box with unexpected structure in /content/imgs/02_副本7.jpg: page_index\n",
            "[!] Skipping box with unexpected structure in /content/imgs/02_副本7.jpg: doc_preprocessor_res\n",
            "[!] Skipping box with unexpected structure in /content/imgs/02_副本7.jpg: dt_polys\n",
            "[!] Skipping box with unexpected structure in /content/imgs/02_副本7.jpg: model_settings\n",
            "[!] Skipping box with unexpected structure in /content/imgs/02_副本7.jpg: text_det_params\n",
            "[!] Skipping box with unexpected structure in /content/imgs/02_副本7.jpg: text_type\n",
            "[!] Skipping box with unexpected structure in /content/imgs/02_副本7.jpg: text_rec_score_thresh\n",
            "[!] Skipping box with unexpected structure in /content/imgs/02_副本7.jpg: rec_texts\n",
            "[!] Skipping box with unexpected structure in /content/imgs/02_副本7.jpg: rec_scores\n",
            "[!] Skipping box with unexpected structure in /content/imgs/02_副本7.jpg: rec_polys\n",
            "[!] Skipping box with unexpected structure in /content/imgs/02_副本7.jpg: textline_orientation_angles\n",
            "[!] Skipping box with unexpected structure in /content/imgs/02_副本7.jpg: rec_boxes\n",
            "df shape:  (0, 0) \n",
            "\n",
            "[✓] OCR Done: /content/imgs/02_副本7.jpg\n"
          ]
        },
        {
          "metadata": {
            "tags": null
          },
          "name": "stderr",
          "output_type": "stream",
          "text": [
            "\u001b[32mCreating model: ('UVDoc', None)\u001b[0m\n",
            "\u001b[32mUsing official model (UVDoc), the model files will be automatically downloaded and saved in /root/.paddlex/official_models.\u001b[0m\n",
            "\u001b[32mCreating model: ('PP-LCNet_x0_25_textline_ori', None)\u001b[0m\n",
            "\u001b[32mUsing official model (PP-LCNet_x0_25_textline_ori), the model files will be automatically downloaded and saved in /root/.paddlex/official_models.\u001b[0m\n",
            "\u001b[32mCreating model: ('PP-OCRv5_mobile_det', None)\u001b[0m\n",
            "\u001b[32mUsing official model (PP-OCRv5_mobile_det), the model files will be automatically downloaded and saved in /root/.paddlex/official_models.\u001b[0m\n",
            "\u001b[32mCreating model: ('PP-OCRv5_mobile_rec', None)\u001b[0m\n",
            "\u001b[32mUsing official model (PP-OCRv5_mobile_rec), the model files will be automatically downloaded and saved in /root/.paddlex/official_models.\u001b[0m\n",
            "<ipython-input-10-a961632846da>:4: DeprecationWarning: Please use `predict` instead.\n",
            "  result = ocr.ocr(img_path)\n",
            "\u001b[33mResized image size (17317x736) exceeds max_side_limit of 4000. Resizing to fit within limit.\u001b[0m\n",
            "<ipython-input-10-a961632846da>:2: DeprecationWarning: The parameter `use_angle_cls` has been deprecated and will be removed in the future. Please use `use_textline_orientation` instead.\n",
            "  ocr = PaddleOCR(use_angle_cls=True, lang='ch')\n",
            "\u001b[32mCreating model: ('PP-LCNet_x1_0_doc_ori', None)\u001b[0m\n",
            "\u001b[32mUsing official model (PP-LCNet_x1_0_doc_ori), the model files will be automatically downloaded and saved in /root/.paddlex/official_models.\u001b[0m\n"
          ]
        },
        {
          "metadata": {
            "tags": null
          },
          "name": "stdout",
          "output_type": "stream",
          "text": [
            "[!] Skipping box with unexpected structure in /content/imgs/02_副本8.jpg: input_path\n",
            "[!] Skipping box with unexpected structure in /content/imgs/02_副本8.jpg: page_index\n",
            "[!] Skipping box with unexpected structure in /content/imgs/02_副本8.jpg: doc_preprocessor_res\n",
            "[!] Skipping box with unexpected structure in /content/imgs/02_副本8.jpg: dt_polys\n",
            "[!] Skipping box with unexpected structure in /content/imgs/02_副本8.jpg: model_settings\n",
            "[!] Skipping box with unexpected structure in /content/imgs/02_副本8.jpg: text_det_params\n",
            "[!] Skipping box with unexpected structure in /content/imgs/02_副本8.jpg: text_type\n",
            "[!] Skipping box with unexpected structure in /content/imgs/02_副本8.jpg: text_rec_score_thresh\n",
            "[!] Skipping box with unexpected structure in /content/imgs/02_副本8.jpg: rec_texts\n",
            "[!] Skipping box with unexpected structure in /content/imgs/02_副本8.jpg: rec_scores\n",
            "[!] Skipping box with unexpected structure in /content/imgs/02_副本8.jpg: rec_polys\n",
            "[!] Skipping box with unexpected structure in /content/imgs/02_副本8.jpg: textline_orientation_angles\n",
            "[!] Skipping box with unexpected structure in /content/imgs/02_副本8.jpg: rec_boxes\n",
            "df shape:  (0, 0) \n",
            "\n",
            "[✓] OCR Done: /content/imgs/02_副本8.jpg\n"
          ]
        },
        {
          "metadata": {
            "tags": null
          },
          "name": "stderr",
          "output_type": "stream",
          "text": [
            "\u001b[32mCreating model: ('UVDoc', None)\u001b[0m\n",
            "\u001b[32mUsing official model (UVDoc), the model files will be automatically downloaded and saved in /root/.paddlex/official_models.\u001b[0m\n",
            "\u001b[32mCreating model: ('PP-LCNet_x0_25_textline_ori', None)\u001b[0m\n",
            "\u001b[32mUsing official model (PP-LCNet_x0_25_textline_ori), the model files will be automatically downloaded and saved in /root/.paddlex/official_models.\u001b[0m\n",
            "\u001b[32mCreating model: ('PP-OCRv5_mobile_det', None)\u001b[0m\n",
            "\u001b[32mUsing official model (PP-OCRv5_mobile_det), the model files will be automatically downloaded and saved in /root/.paddlex/official_models.\u001b[0m\n",
            "\u001b[32mCreating model: ('PP-OCRv5_mobile_rec', None)\u001b[0m\n",
            "\u001b[32mUsing official model (PP-OCRv5_mobile_rec), the model files will be automatically downloaded and saved in /root/.paddlex/official_models.\u001b[0m\n",
            "<ipython-input-10-a961632846da>:4: DeprecationWarning: Please use `predict` instead.\n",
            "  result = ocr.ocr(img_path)\n",
            "\u001b[33mResized image size (735x17116) exceeds max_side_limit of 4000. Resizing to fit within limit.\u001b[0m\n",
            "<ipython-input-10-a961632846da>:2: DeprecationWarning: The parameter `use_angle_cls` has been deprecated and will be removed in the future. Please use `use_textline_orientation` instead.\n",
            "  ocr = PaddleOCR(use_angle_cls=True, lang='ch')\n",
            "\u001b[32mCreating model: ('PP-LCNet_x1_0_doc_ori', None)\u001b[0m\n",
            "\u001b[32mUsing official model (PP-LCNet_x1_0_doc_ori), the model files will be automatically downloaded and saved in /root/.paddlex/official_models.\u001b[0m\n"
          ]
        },
        {
          "metadata": {
            "tags": null
          },
          "name": "stdout",
          "output_type": "stream",
          "text": [
            "[!] Skipping box with unexpected structure in /content/imgs/02_副本9.jpg: input_path\n",
            "[!] Skipping box with unexpected structure in /content/imgs/02_副本9.jpg: page_index\n",
            "[!] Skipping box with unexpected structure in /content/imgs/02_副本9.jpg: doc_preprocessor_res\n",
            "[!] Skipping box with unexpected structure in /content/imgs/02_副本9.jpg: dt_polys\n",
            "[!] Skipping box with unexpected structure in /content/imgs/02_副本9.jpg: model_settings\n",
            "[!] Skipping box with unexpected structure in /content/imgs/02_副本9.jpg: text_det_params\n",
            "[!] Skipping box with unexpected structure in /content/imgs/02_副本9.jpg: text_type\n",
            "[!] Skipping box with unexpected structure in /content/imgs/02_副本9.jpg: text_rec_score_thresh\n",
            "[!] Skipping box with unexpected structure in /content/imgs/02_副本9.jpg: rec_texts\n",
            "[!] Skipping box with unexpected structure in /content/imgs/02_副本9.jpg: rec_scores\n",
            "[!] Skipping box with unexpected structure in /content/imgs/02_副本9.jpg: rec_polys\n",
            "[!] Skipping box with unexpected structure in /content/imgs/02_副本9.jpg: textline_orientation_angles\n",
            "[!] Skipping box with unexpected structure in /content/imgs/02_副本9.jpg: rec_boxes\n",
            "df shape:  (0, 0) \n",
            "\n",
            "[✓] OCR Done: /content/imgs/02_副本9.jpg\n"
          ]
        },
        {
          "metadata": {
            "tags": null
          },
          "name": "stderr",
          "output_type": "stream",
          "text": [
            "\u001b[32mCreating model: ('UVDoc', None)\u001b[0m\n",
            "\u001b[32mUsing official model (UVDoc), the model files will be automatically downloaded and saved in /root/.paddlex/official_models.\u001b[0m\n",
            "\u001b[32mCreating model: ('PP-LCNet_x0_25_textline_ori', None)\u001b[0m\n",
            "\u001b[32mUsing official model (PP-LCNet_x0_25_textline_ori), the model files will be automatically downloaded and saved in /root/.paddlex/official_models.\u001b[0m\n",
            "\u001b[32mCreating model: ('PP-OCRv5_mobile_det', None)\u001b[0m\n",
            "\u001b[32mUsing official model (PP-OCRv5_mobile_det), the model files will be automatically downloaded and saved in /root/.paddlex/official_models.\u001b[0m\n",
            "\u001b[32mCreating model: ('PP-OCRv5_mobile_rec', None)\u001b[0m\n",
            "\u001b[32mUsing official model (PP-OCRv5_mobile_rec), the model files will be automatically downloaded and saved in /root/.paddlex/official_models.\u001b[0m\n",
            "<ipython-input-10-a961632846da>:4: DeprecationWarning: Please use `predict` instead.\n",
            "  result = ocr.ocr(img_path)\n",
            "\u001b[33mResized image size (16727x736) exceeds max_side_limit of 4000. Resizing to fit within limit.\u001b[0m\n",
            "<ipython-input-10-a961632846da>:2: DeprecationWarning: The parameter `use_angle_cls` has been deprecated and will be removed in the future. Please use `use_textline_orientation` instead.\n",
            "  ocr = PaddleOCR(use_angle_cls=True, lang='ch')\n",
            "\u001b[32mCreating model: ('PP-LCNet_x1_0_doc_ori', None)\u001b[0m\n",
            "\u001b[32mUsing official model (PP-LCNet_x1_0_doc_ori), the model files will be automatically downloaded and saved in /root/.paddlex/official_models.\u001b[0m\n"
          ]
        },
        {
          "metadata": {
            "tags": null
          },
          "name": "stdout",
          "output_type": "stream",
          "text": [
            "[!] Skipping box with unexpected structure in /content/imgs/03_副本.jpg: input_path\n",
            "[!] Skipping box with unexpected structure in /content/imgs/03_副本.jpg: page_index\n",
            "[!] Skipping box with unexpected structure in /content/imgs/03_副本.jpg: doc_preprocessor_res\n",
            "[!] Skipping box with unexpected structure in /content/imgs/03_副本.jpg: dt_polys\n",
            "[!] Skipping box with unexpected structure in /content/imgs/03_副本.jpg: model_settings\n",
            "[!] Skipping box with unexpected structure in /content/imgs/03_副本.jpg: text_det_params\n",
            "[!] Skipping box with unexpected structure in /content/imgs/03_副本.jpg: text_type\n",
            "[!] Skipping box with unexpected structure in /content/imgs/03_副本.jpg: text_rec_score_thresh\n",
            "[!] Skipping box with unexpected structure in /content/imgs/03_副本.jpg: rec_texts\n",
            "[!] Skipping box with unexpected structure in /content/imgs/03_副本.jpg: rec_scores\n",
            "[!] Skipping box with unexpected structure in /content/imgs/03_副本.jpg: rec_polys\n",
            "[!] Skipping box with unexpected structure in /content/imgs/03_副本.jpg: textline_orientation_angles\n",
            "[!] Skipping box with unexpected structure in /content/imgs/03_副本.jpg: rec_boxes\n",
            "df shape:  (0, 0) \n",
            "\n",
            "[✓] OCR Done: /content/imgs/03_副本.jpg\n"
          ]
        },
        {
          "metadata": {
            "tags": null
          },
          "name": "stderr",
          "output_type": "stream",
          "text": [
            "\u001b[32mCreating model: ('UVDoc', None)\u001b[0m\n",
            "\u001b[32mUsing official model (UVDoc), the model files will be automatically downloaded and saved in /root/.paddlex/official_models.\u001b[0m\n",
            "\u001b[32mCreating model: ('PP-LCNet_x0_25_textline_ori', None)\u001b[0m\n",
            "\u001b[32mUsing official model (PP-LCNet_x0_25_textline_ori), the model files will be automatically downloaded and saved in /root/.paddlex/official_models.\u001b[0m\n",
            "\u001b[32mCreating model: ('PP-OCRv5_mobile_det', None)\u001b[0m\n",
            "\u001b[32mUsing official model (PP-OCRv5_mobile_det), the model files will be automatically downloaded and saved in /root/.paddlex/official_models.\u001b[0m\n",
            "\u001b[32mCreating model: ('PP-OCRv5_mobile_rec', None)\u001b[0m\n",
            "\u001b[32mUsing official model (PP-OCRv5_mobile_rec), the model files will be automatically downloaded and saved in /root/.paddlex/official_models.\u001b[0m\n",
            "<ipython-input-10-a961632846da>:4: DeprecationWarning: Please use `predict` instead.\n",
            "  result = ocr.ocr(img_path)\n",
            "\u001b[33mResized image size (17523x736) exceeds max_side_limit of 4000. Resizing to fit within limit.\u001b[0m\n",
            "<ipython-input-10-a961632846da>:2: DeprecationWarning: The parameter `use_angle_cls` has been deprecated and will be removed in the future. Please use `use_textline_orientation` instead.\n",
            "  ocr = PaddleOCR(use_angle_cls=True, lang='ch')\n",
            "\u001b[32mCreating model: ('PP-LCNet_x1_0_doc_ori', None)\u001b[0m\n",
            "\u001b[32mUsing official model (PP-LCNet_x1_0_doc_ori), the model files will be automatically downloaded and saved in /root/.paddlex/official_models.\u001b[0m\n"
          ]
        },
        {
          "metadata": {
            "tags": null
          },
          "name": "stdout",
          "output_type": "stream",
          "text": [
            "[!] Skipping box with unexpected structure in /content/imgs/03_副本1.jpg: input_path\n",
            "[!] Skipping box with unexpected structure in /content/imgs/03_副本1.jpg: page_index\n",
            "[!] Skipping box with unexpected structure in /content/imgs/03_副本1.jpg: doc_preprocessor_res\n",
            "[!] Skipping box with unexpected structure in /content/imgs/03_副本1.jpg: dt_polys\n",
            "[!] Skipping box with unexpected structure in /content/imgs/03_副本1.jpg: model_settings\n",
            "[!] Skipping box with unexpected structure in /content/imgs/03_副本1.jpg: text_det_params\n",
            "[!] Skipping box with unexpected structure in /content/imgs/03_副本1.jpg: text_type\n",
            "[!] Skipping box with unexpected structure in /content/imgs/03_副本1.jpg: text_rec_score_thresh\n",
            "[!] Skipping box with unexpected structure in /content/imgs/03_副本1.jpg: rec_texts\n",
            "[!] Skipping box with unexpected structure in /content/imgs/03_副本1.jpg: rec_scores\n",
            "[!] Skipping box with unexpected structure in /content/imgs/03_副本1.jpg: rec_polys\n",
            "[!] Skipping box with unexpected structure in /content/imgs/03_副本1.jpg: rec_boxes\n",
            "df shape:  (0, 0) \n",
            "\n",
            "[✓] OCR Done: /content/imgs/03_副本1.jpg\n"
          ]
        },
        {
          "metadata": {
            "tags": null
          },
          "name": "stderr",
          "output_type": "stream",
          "text": [
            "\u001b[32mCreating model: ('UVDoc', None)\u001b[0m\n",
            "\u001b[32mUsing official model (UVDoc), the model files will be automatically downloaded and saved in /root/.paddlex/official_models.\u001b[0m\n",
            "\u001b[32mCreating model: ('PP-LCNet_x0_25_textline_ori', None)\u001b[0m\n",
            "\u001b[32mUsing official model (PP-LCNet_x0_25_textline_ori), the model files will be automatically downloaded and saved in /root/.paddlex/official_models.\u001b[0m\n",
            "\u001b[32mCreating model: ('PP-OCRv5_mobile_det', None)\u001b[0m\n",
            "\u001b[32mUsing official model (PP-OCRv5_mobile_det), the model files will be automatically downloaded and saved in /root/.paddlex/official_models.\u001b[0m\n",
            "\u001b[32mCreating model: ('PP-OCRv5_mobile_rec', None)\u001b[0m\n",
            "\u001b[32mUsing official model (PP-OCRv5_mobile_rec), the model files will be automatically downloaded and saved in /root/.paddlex/official_models.\u001b[0m\n",
            "<ipython-input-10-a961632846da>:4: DeprecationWarning: Please use `predict` instead.\n",
            "  result = ocr.ocr(img_path)\n",
            "\u001b[33mResized image size (16727x736) exceeds max_side_limit of 4000. Resizing to fit within limit.\u001b[0m\n",
            "<ipython-input-10-a961632846da>:2: DeprecationWarning: The parameter `use_angle_cls` has been deprecated and will be removed in the future. Please use `use_textline_orientation` instead.\n",
            "  ocr = PaddleOCR(use_angle_cls=True, lang='ch')\n",
            "\u001b[32mCreating model: ('PP-LCNet_x1_0_doc_ori', None)\u001b[0m\n",
            "\u001b[32mUsing official model (PP-LCNet_x1_0_doc_ori), the model files will be automatically downloaded and saved in /root/.paddlex/official_models.\u001b[0m\n"
          ]
        },
        {
          "metadata": {
            "tags": null
          },
          "name": "stdout",
          "output_type": "stream",
          "text": [
            "[!] Skipping box with unexpected structure in /content/imgs/03_副本2.jpg: input_path\n",
            "[!] Skipping box with unexpected structure in /content/imgs/03_副本2.jpg: page_index\n",
            "[!] Skipping box with unexpected structure in /content/imgs/03_副本2.jpg: doc_preprocessor_res\n",
            "[!] Skipping box with unexpected structure in /content/imgs/03_副本2.jpg: dt_polys\n",
            "[!] Skipping box with unexpected structure in /content/imgs/03_副本2.jpg: model_settings\n",
            "[!] Skipping box with unexpected structure in /content/imgs/03_副本2.jpg: text_det_params\n",
            "[!] Skipping box with unexpected structure in /content/imgs/03_副本2.jpg: text_type\n",
            "[!] Skipping box with unexpected structure in /content/imgs/03_副本2.jpg: text_rec_score_thresh\n",
            "[!] Skipping box with unexpected structure in /content/imgs/03_副本2.jpg: rec_texts\n",
            "[!] Skipping box with unexpected structure in /content/imgs/03_副本2.jpg: rec_scores\n",
            "[!] Skipping box with unexpected structure in /content/imgs/03_副本2.jpg: rec_polys\n",
            "[!] Skipping box with unexpected structure in /content/imgs/03_副本2.jpg: textline_orientation_angles\n",
            "[!] Skipping box with unexpected structure in /content/imgs/03_副本2.jpg: rec_boxes\n",
            "df shape:  (0, 0) \n",
            "\n",
            "[✓] OCR Done: /content/imgs/03_副本2.jpg\n"
          ]
        },
        {
          "metadata": {
            "tags": null
          },
          "name": "stderr",
          "output_type": "stream",
          "text": [
            "\u001b[32mCreating model: ('UVDoc', None)\u001b[0m\n",
            "\u001b[32mUsing official model (UVDoc), the model files will be automatically downloaded and saved in /root/.paddlex/official_models.\u001b[0m\n",
            "\u001b[32mCreating model: ('PP-LCNet_x0_25_textline_ori', None)\u001b[0m\n",
            "\u001b[32mUsing official model (PP-LCNet_x0_25_textline_ori), the model files will be automatically downloaded and saved in /root/.paddlex/official_models.\u001b[0m\n",
            "\u001b[32mCreating model: ('PP-OCRv5_mobile_det', None)\u001b[0m\n",
            "\u001b[32mUsing official model (PP-OCRv5_mobile_det), the model files will be automatically downloaded and saved in /root/.paddlex/official_models.\u001b[0m\n",
            "\u001b[32mCreating model: ('PP-OCRv5_mobile_rec', None)\u001b[0m\n",
            "\u001b[32mUsing official model (PP-OCRv5_mobile_rec), the model files will be automatically downloaded and saved in /root/.paddlex/official_models.\u001b[0m\n",
            "<ipython-input-10-a961632846da>:4: DeprecationWarning: Please use `predict` instead.\n",
            "  result = ocr.ocr(img_path)\n",
            "\u001b[33mResized image size (16539x736) exceeds max_side_limit of 4000. Resizing to fit within limit.\u001b[0m\n",
            "<ipython-input-10-a961632846da>:2: DeprecationWarning: The parameter `use_angle_cls` has been deprecated and will be removed in the future. Please use `use_textline_orientation` instead.\n",
            "  ocr = PaddleOCR(use_angle_cls=True, lang='ch')\n",
            "\u001b[32mCreating model: ('PP-LCNet_x1_0_doc_ori', None)\u001b[0m\n",
            "\u001b[32mUsing official model (PP-LCNet_x1_0_doc_ori), the model files will be automatically downloaded and saved in /root/.paddlex/official_models.\u001b[0m\n"
          ]
        },
        {
          "metadata": {
            "tags": null
          },
          "name": "stdout",
          "output_type": "stream",
          "text": [
            "[!] Skipping box with unexpected structure in /content/imgs/04_副本.jpg: input_path\n",
            "[!] Skipping box with unexpected structure in /content/imgs/04_副本.jpg: page_index\n",
            "[!] Skipping box with unexpected structure in /content/imgs/04_副本.jpg: doc_preprocessor_res\n",
            "[!] Skipping box with unexpected structure in /content/imgs/04_副本.jpg: dt_polys\n",
            "[!] Skipping box with unexpected structure in /content/imgs/04_副本.jpg: model_settings\n",
            "[!] Skipping box with unexpected structure in /content/imgs/04_副本.jpg: text_det_params\n",
            "[!] Skipping box with unexpected structure in /content/imgs/04_副本.jpg: text_type\n",
            "[!] Skipping box with unexpected structure in /content/imgs/04_副本.jpg: text_rec_score_thresh\n",
            "[!] Skipping box with unexpected structure in /content/imgs/04_副本.jpg: rec_texts\n",
            "[!] Skipping box with unexpected structure in /content/imgs/04_副本.jpg: rec_scores\n",
            "[!] Skipping box with unexpected structure in /content/imgs/04_副本.jpg: rec_polys\n",
            "[!] Skipping box with unexpected structure in /content/imgs/04_副本.jpg: textline_orientation_angles\n",
            "[!] Skipping box with unexpected structure in /content/imgs/04_副本.jpg: rec_boxes\n",
            "df shape:  (0, 0) \n",
            "\n",
            "[✓] OCR Done: /content/imgs/04_副本.jpg\n"
          ]
        },
        {
          "metadata": {
            "tags": null
          },
          "name": "stderr",
          "output_type": "stream",
          "text": [
            "\u001b[32mCreating model: ('UVDoc', None)\u001b[0m\n",
            "\u001b[32mUsing official model (UVDoc), the model files will be automatically downloaded and saved in /root/.paddlex/official_models.\u001b[0m\n",
            "\u001b[32mCreating model: ('PP-LCNet_x0_25_textline_ori', None)\u001b[0m\n",
            "\u001b[32mUsing official model (PP-LCNet_x0_25_textline_ori), the model files will be automatically downloaded and saved in /root/.paddlex/official_models.\u001b[0m\n",
            "\u001b[32mCreating model: ('PP-OCRv5_mobile_det', None)\u001b[0m\n",
            "\u001b[32mUsing official model (PP-OCRv5_mobile_det), the model files will be automatically downloaded and saved in /root/.paddlex/official_models.\u001b[0m\n",
            "\u001b[32mCreating model: ('PP-OCRv5_mobile_rec', None)\u001b[0m\n",
            "\u001b[32mUsing official model (PP-OCRv5_mobile_rec), the model files will be automatically downloaded and saved in /root/.paddlex/official_models.\u001b[0m\n",
            "<ipython-input-10-a961632846da>:4: DeprecationWarning: Please use `predict` instead.\n",
            "  result = ocr.ocr(img_path)\n",
            "\u001b[33mResized image size (16919x736) exceeds max_side_limit of 4000. Resizing to fit within limit.\u001b[0m\n",
            "<ipython-input-10-a961632846da>:2: DeprecationWarning: The parameter `use_angle_cls` has been deprecated and will be removed in the future. Please use `use_textline_orientation` instead.\n",
            "  ocr = PaddleOCR(use_angle_cls=True, lang='ch')\n",
            "\u001b[32mCreating model: ('PP-LCNet_x1_0_doc_ori', None)\u001b[0m\n",
            "\u001b[32mUsing official model (PP-LCNet_x1_0_doc_ori), the model files will be automatically downloaded and saved in /root/.paddlex/official_models.\u001b[0m\n"
          ]
        },
        {
          "metadata": {
            "tags": null
          },
          "name": "stdout",
          "output_type": "stream",
          "text": [
            "[!] Skipping box with unexpected structure in /content/imgs/04_副本1.jpg: input_path\n",
            "[!] Skipping box with unexpected structure in /content/imgs/04_副本1.jpg: page_index\n",
            "[!] Skipping box with unexpected structure in /content/imgs/04_副本1.jpg: doc_preprocessor_res\n",
            "[!] Skipping box with unexpected structure in /content/imgs/04_副本1.jpg: dt_polys\n",
            "[!] Skipping box with unexpected structure in /content/imgs/04_副本1.jpg: model_settings\n",
            "[!] Skipping box with unexpected structure in /content/imgs/04_副本1.jpg: text_det_params\n",
            "[!] Skipping box with unexpected structure in /content/imgs/04_副本1.jpg: text_type\n",
            "[!] Skipping box with unexpected structure in /content/imgs/04_副本1.jpg: text_rec_score_thresh\n",
            "[!] Skipping box with unexpected structure in /content/imgs/04_副本1.jpg: rec_texts\n",
            "[!] Skipping box with unexpected structure in /content/imgs/04_副本1.jpg: rec_scores\n",
            "[!] Skipping box with unexpected structure in /content/imgs/04_副本1.jpg: rec_polys\n",
            "[!] Skipping box with unexpected structure in /content/imgs/04_副本1.jpg: textline_orientation_angles\n",
            "[!] Skipping box with unexpected structure in /content/imgs/04_副本1.jpg: rec_boxes\n",
            "df shape:  (0, 0) \n",
            "\n",
            "[✓] OCR Done: /content/imgs/04_副本1.jpg\n"
          ]
        },
        {
          "output_type": "stream",
          "name": "stderr",
          "text": [
            "\u001b[32mCreating model: ('UVDoc', None)\u001b[0m\n",
            "\u001b[32mUsing official model (UVDoc), the model files will be automatically downloaded and saved in /root/.paddlex/official_models.\u001b[0m\n",
            "\u001b[32mCreating model: ('PP-LCNet_x0_25_textline_ori', None)\u001b[0m\n",
            "\u001b[32mUsing official model (PP-LCNet_x0_25_textline_ori), the model files will be automatically downloaded and saved in /root/.paddlex/official_models.\u001b[0m\n",
            "\u001b[32mCreating model: ('PP-OCRv5_mobile_det', None)\u001b[0m\n",
            "\u001b[32mUsing official model (PP-OCRv5_mobile_det), the model files will be automatically downloaded and saved in /root/.paddlex/official_models.\u001b[0m\n",
            "\u001b[32mCreating model: ('PP-OCRv5_mobile_rec', None)\u001b[0m\n",
            "\u001b[32mUsing official model (PP-OCRv5_mobile_rec), the model files will be automatically downloaded and saved in /root/.paddlex/official_models.\u001b[0m\n",
            "<ipython-input-10-a961632846da>:4: DeprecationWarning: Please use `predict` instead.\n",
            "  result = ocr.ocr(img_path)\n",
            "\u001b[33mResized image size (15333x736) exceeds max_side_limit of 4000. Resizing to fit within limit.\u001b[0m\n"
          ]
        }
      ],
      "source": [
        "img_dir = \"/content/imgs\"\n",
        "img_paths = sorted([os.path.join(img_dir, f) for f in os.listdir(img_dir) if f.endswith(\".jpg\")])\n",
        "\n",
        "dfs = []\n",
        "for idx, img_path in enumerate(img_paths):\n",
        "    df = ocr_to_dataframe(img_path)\n",
        "    if df is not None:\n",
        "        dfs.append(df)\n",
        "        print(\"df shape: \", df.shape, \"\\n\")\n",
        "        print(f\"[✓] OCR Done: {img_path}\")\n",
        "    else:\n",
        "        print(f\"[!] Skipped: {img_path}\")\n",
        "\n",
        "print(\"Done.\")"
      ]
    },
    {
      "cell_type": "markdown",
      "id": "2e0efce1755b2682",
      "metadata": {
        "id": "2e0efce1755b2682"
      },
      "source": [
        "Concat and Output"
      ]
    },
    {
      "cell_type": "code",
      "execution_count": null,
      "id": "ad9c8baf223ed518",
      "metadata": {
        "id": "ad9c8baf223ed518"
      },
      "outputs": [],
      "source": [
        "if dfs:\n",
        "    max_rows = max(df.shape[0] for df in dfs)\n",
        "    dfs = [df.reindex(index=range(max_rows)) for df in dfs]\n",
        "    merged_df = pd.concat(dfs, axis=1)\n",
        "\n",
        "    output_dir = \"../output\"\n",
        "    os.makedirs(output_dir, exist_ok=True)\n",
        "\n",
        "    merged_df.to_csv(os.path.join(output_dir, \"ocr_table.csv\"), index=False, header=False)\n",
        "    print(\"Done.\")\n",
        "else:\n",
        "    print(\"No dataframes were generated. Output file not created.\")"
      ]
    }
  ],
  "metadata": {
    "kernelspec": {
      "display_name": "ml",
      "language": "python",
      "name": "python3"
    },
    "language_info": {
      "codemirror_mode": {
        "name": "ipython",
        "version": 3
      },
      "file_extension": ".py",
      "mimetype": "text/x-python",
      "name": "python",
      "nbconvert_exporter": "python",
      "pygments_lexer": "ipython3",
      "version": "3.12.2"
    },
    "colab": {
      "provenance": [],
      "include_colab_link": true
    }
  },
  "nbformat": 4,
  "nbformat_minor": 5
}